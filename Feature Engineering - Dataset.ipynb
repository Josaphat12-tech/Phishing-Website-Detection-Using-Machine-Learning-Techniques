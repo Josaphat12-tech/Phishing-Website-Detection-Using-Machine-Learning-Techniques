{
 "cells": [
  {
   "cell_type": "markdown",
   "id": "a9773ad8",
   "metadata": {},
   "source": [
    "# Phishing Website Detection by Machine Learning - Feature Extraction"
   ]
  },
  {
   "cell_type": "markdown",
   "id": "fb877368",
   "metadata": {},
   "source": [
    "This notebook aims to collect the relevant data and extract the selective features."
   ]
  },
  {
   "cell_type": "code",
   "execution_count": 104,
   "id": "175f5745",
   "metadata": {},
   "outputs": [],
   "source": [
    "import os\n",
    "import requests\n",
    "import pandas as pd\n",
    "from urllib.parse import urlparse,urlencode\n",
    "import ipaddress\n",
    "import re"
   ]
  },
  {
   "cell_type": "markdown",
   "id": "e0a428e4",
   "metadata": {},
   "source": [
    "# 1. Data Collection:"
   ]
  },
  {
   "cell_type": "markdown",
   "id": "9f7cc7c7",
   "metadata": {},
   "source": [
    "For this project we are required to collect legitimate(0) and phishing URLs.\n",
    "\n",
    "- Phishing URLs are collected using opensource service called PhishTank, http://data.phishtank.com/data/online-valid.csv.\n",
    "- Legitimate URLs are collected using dataset provided by University of New Brunswick, https://www.unb.ca/cic/datasets/url-2016.html. The number of legitimate URLs in this collection are 35,300. Among all the files, 'Benign_list_big_final.csv' is the file of our interest. "
   ]
  },
  {
   "cell_type": "markdown",
   "id": "ae0f12f2",
   "metadata": {},
   "source": [
    "## 1.1. Phishing URLs:"
   ]
  },
  {
   "cell_type": "markdown",
   "id": "913a6cab",
   "metadata": {},
   "source": [
    "Phishing URLs are collected using PhishTank and loaded into the DataFrame."
   ]
  },
  {
   "cell_type": "code",
   "execution_count": 84,
   "id": "911da634",
   "metadata": {},
   "outputs": [],
   "source": [
    "#Downloading the phishing URLs file\n",
    "\n",
    "CSV_URL = 'http://data.phishtank.com/data/online-valid.csv'\n",
    "\n",
    "with open(\"Dataset/\" + os.path.split(CSV_URL)[1] , 'wb') as f, \\\n",
    "        requests.get(CSV_URL, stream=True) as r:\n",
    "    for line in r.iter_lines():\n",
    "        f.write(line+'\\n'.encode())"
   ]
  },
  {
   "cell_type": "code",
   "execution_count": 85,
   "id": "624d7620",
   "metadata": {},
   "outputs": [],
   "source": [
    "path = \"Dataset//online-valid.csv\"\n",
    "df_phishing = pd.read_csv(path)"
   ]
  },
  {
   "cell_type": "code",
   "execution_count": 86,
   "id": "ec861eb3",
   "metadata": {},
   "outputs": [
    {
     "data": {
      "text/html": [
       "<div>\n",
       "<style scoped>\n",
       "    .dataframe tbody tr th:only-of-type {\n",
       "        vertical-align: middle;\n",
       "    }\n",
       "\n",
       "    .dataframe tbody tr th {\n",
       "        vertical-align: top;\n",
       "    }\n",
       "\n",
       "    .dataframe thead th {\n",
       "        text-align: right;\n",
       "    }\n",
       "</style>\n",
       "<table border=\"1\" class=\"dataframe\">\n",
       "  <thead>\n",
       "    <tr style=\"text-align: right;\">\n",
       "      <th></th>\n",
       "      <th>phish_id</th>\n",
       "      <th>url</th>\n",
       "      <th>phish_detail_url</th>\n",
       "      <th>submission_time</th>\n",
       "      <th>verified</th>\n",
       "      <th>verification_time</th>\n",
       "      <th>online</th>\n",
       "      <th>target</th>\n",
       "    </tr>\n",
       "  </thead>\n",
       "  <tbody>\n",
       "    <tr>\n",
       "      <th>0</th>\n",
       "      <td>7373519</td>\n",
       "      <td>http://uat.bakebe.com/de/bw-bank/</td>\n",
       "      <td>http://www.phishtank.com/phish_detail.php?phis...</td>\n",
       "      <td>2021-12-04T19:45:21+00:00</td>\n",
       "      <td>yes</td>\n",
       "      <td>2021-12-04T20:05:02+00:00</td>\n",
       "      <td>yes</td>\n",
       "      <td>Other</td>\n",
       "    </tr>\n",
       "    <tr>\n",
       "      <th>1</th>\n",
       "      <td>7373479</td>\n",
       "      <td>https://mercarir.jp.dbctscc.cn</td>\n",
       "      <td>http://www.phishtank.com/phish_detail.php?phis...</td>\n",
       "      <td>2021-12-04T18:04:30+00:00</td>\n",
       "      <td>yes</td>\n",
       "      <td>2021-12-04T19:52:04+00:00</td>\n",
       "      <td>yes</td>\n",
       "      <td>Other</td>\n",
       "    </tr>\n",
       "    <tr>\n",
       "      <th>2</th>\n",
       "      <td>7373476</td>\n",
       "      <td>https://www.bancowlnterbank.com/</td>\n",
       "      <td>http://www.phishtank.com/phish_detail.php?phis...</td>\n",
       "      <td>2021-12-04T17:53:44+00:00</td>\n",
       "      <td>yes</td>\n",
       "      <td>2021-12-04T18:10:52+00:00</td>\n",
       "      <td>yes</td>\n",
       "      <td>Other</td>\n",
       "    </tr>\n",
       "    <tr>\n",
       "      <th>3</th>\n",
       "      <td>7373471</td>\n",
       "      <td>https://clientedescontaoitau.000webhostapp.com/</td>\n",
       "      <td>http://www.phishtank.com/phish_detail.php?phis...</td>\n",
       "      <td>2021-12-04T17:35:13+00:00</td>\n",
       "      <td>yes</td>\n",
       "      <td>2021-12-04T19:42:55+00:00</td>\n",
       "      <td>yes</td>\n",
       "      <td>Itau</td>\n",
       "    </tr>\n",
       "    <tr>\n",
       "      <th>4</th>\n",
       "      <td>7373461</td>\n",
       "      <td>https://verifiedsbcglobal.weebly.com/</td>\n",
       "      <td>http://www.phishtank.com/phish_detail.php?phis...</td>\n",
       "      <td>2021-12-04T16:36:02+00:00</td>\n",
       "      <td>yes</td>\n",
       "      <td>2021-12-04T18:10:52+00:00</td>\n",
       "      <td>yes</td>\n",
       "      <td>Other</td>\n",
       "    </tr>\n",
       "  </tbody>\n",
       "</table>\n",
       "</div>"
      ],
      "text/plain": [
       "   phish_id                                              url  \\\n",
       "0   7373519                http://uat.bakebe.com/de/bw-bank/   \n",
       "1   7373479                   https://mercarir.jp.dbctscc.cn   \n",
       "2   7373476                 https://www.bancowlnterbank.com/   \n",
       "3   7373471  https://clientedescontaoitau.000webhostapp.com/   \n",
       "4   7373461            https://verifiedsbcglobal.weebly.com/   \n",
       "\n",
       "                                    phish_detail_url  \\\n",
       "0  http://www.phishtank.com/phish_detail.php?phis...   \n",
       "1  http://www.phishtank.com/phish_detail.php?phis...   \n",
       "2  http://www.phishtank.com/phish_detail.php?phis...   \n",
       "3  http://www.phishtank.com/phish_detail.php?phis...   \n",
       "4  http://www.phishtank.com/phish_detail.php?phis...   \n",
       "\n",
       "             submission_time verified          verification_time online target  \n",
       "0  2021-12-04T19:45:21+00:00      yes  2021-12-04T20:05:02+00:00    yes  Other  \n",
       "1  2021-12-04T18:04:30+00:00      yes  2021-12-04T19:52:04+00:00    yes  Other  \n",
       "2  2021-12-04T17:53:44+00:00      yes  2021-12-04T18:10:52+00:00    yes  Other  \n",
       "3  2021-12-04T17:35:13+00:00      yes  2021-12-04T19:42:55+00:00    yes   Itau  \n",
       "4  2021-12-04T16:36:02+00:00      yes  2021-12-04T18:10:52+00:00    yes  Other  "
      ]
     },
     "execution_count": 86,
     "metadata": {},
     "output_type": "execute_result"
    }
   ],
   "source": [
    "df_phishing.head()"
   ]
  },
  {
   "cell_type": "code",
   "execution_count": 87,
   "id": "490d3e16",
   "metadata": {},
   "outputs": [
    {
     "data": {
      "text/plain": [
       "phish_id             0\n",
       "url                  0\n",
       "phish_detail_url     0\n",
       "submission_time      0\n",
       "verified             0\n",
       "verification_time    0\n",
       "online               0\n",
       "target               0\n",
       "dtype: int64"
      ]
     },
     "execution_count": 87,
     "metadata": {},
     "output_type": "execute_result"
    }
   ],
   "source": [
    "df_phishing.isnull().sum()"
   ]
  },
  {
   "cell_type": "code",
   "execution_count": 88,
   "id": "8b33b551",
   "metadata": {},
   "outputs": [
    {
     "data": {
      "text/plain": [
       "(12479, 8)"
      ]
     },
     "execution_count": 88,
     "metadata": {},
     "output_type": "execute_result"
    }
   ],
   "source": [
    "df_phishing.shape"
   ]
  },
  {
   "cell_type": "markdown",
   "id": "55387218",
   "metadata": {},
   "source": [
    "We would pick up 5000 samples from the above dataframe randomly."
   ]
  },
  {
   "cell_type": "code",
   "execution_count": 89,
   "id": "6d5e518e",
   "metadata": {},
   "outputs": [
    {
     "data": {
      "text/html": [
       "<div>\n",
       "<style scoped>\n",
       "    .dataframe tbody tr th:only-of-type {\n",
       "        vertical-align: middle;\n",
       "    }\n",
       "\n",
       "    .dataframe tbody tr th {\n",
       "        vertical-align: top;\n",
       "    }\n",
       "\n",
       "    .dataframe thead th {\n",
       "        text-align: right;\n",
       "    }\n",
       "</style>\n",
       "<table border=\"1\" class=\"dataframe\">\n",
       "  <thead>\n",
       "    <tr style=\"text-align: right;\">\n",
       "      <th></th>\n",
       "      <th>phish_id</th>\n",
       "      <th>url</th>\n",
       "      <th>phish_detail_url</th>\n",
       "      <th>submission_time</th>\n",
       "      <th>verified</th>\n",
       "      <th>verification_time</th>\n",
       "      <th>online</th>\n",
       "      <th>target</th>\n",
       "    </tr>\n",
       "  </thead>\n",
       "  <tbody>\n",
       "    <tr>\n",
       "      <th>0</th>\n",
       "      <td>7368857</td>\n",
       "      <td>https://luftcomsa.com/wp-includes/fonts/tesco....</td>\n",
       "      <td>http://www.phishtank.com/phish_detail.php?phis...</td>\n",
       "      <td>2021-11-30T13:45:52+00:00</td>\n",
       "      <td>yes</td>\n",
       "      <td>2021-11-30T18:42:36+00:00</td>\n",
       "      <td>yes</td>\n",
       "      <td>Tesco</td>\n",
       "    </tr>\n",
       "    <tr>\n",
       "      <th>1</th>\n",
       "      <td>6924120</td>\n",
       "      <td>http://hunterpowersport.com/wp-includes/custom...</td>\n",
       "      <td>http://www.phishtank.com/phish_detail.php?phis...</td>\n",
       "      <td>2021-01-16T14:07:43+00:00</td>\n",
       "      <td>yes</td>\n",
       "      <td>2021-01-16T14:23:19+00:00</td>\n",
       "      <td>yes</td>\n",
       "      <td>Other</td>\n",
       "    </tr>\n",
       "    <tr>\n",
       "      <th>2</th>\n",
       "      <td>7046965</td>\n",
       "      <td>https://urlth.me/jvr9U</td>\n",
       "      <td>http://www.phishtank.com/phish_detail.php?phis...</td>\n",
       "      <td>2021-03-27T12:42:21+00:00</td>\n",
       "      <td>yes</td>\n",
       "      <td>2021-03-27T12:44:06+00:00</td>\n",
       "      <td>yes</td>\n",
       "      <td>Other</td>\n",
       "    </tr>\n",
       "    <tr>\n",
       "      <th>3</th>\n",
       "      <td>7304838</td>\n",
       "      <td>https://sites.google.com/view/xopauyr/home</td>\n",
       "      <td>http://www.phishtank.com/phish_detail.php?phis...</td>\n",
       "      <td>2021-09-28T08:20:38+00:00</td>\n",
       "      <td>yes</td>\n",
       "      <td>2021-09-28T08:25:37+00:00</td>\n",
       "      <td>yes</td>\n",
       "      <td>Other</td>\n",
       "    </tr>\n",
       "    <tr>\n",
       "      <th>4</th>\n",
       "      <td>6376701</td>\n",
       "      <td>http://poligrafiapias.com/Secured-adobe/08fd9f...</td>\n",
       "      <td>http://www.phishtank.com/phish_detail.php?phis...</td>\n",
       "      <td>2020-01-30T02:02:10+00:00</td>\n",
       "      <td>yes</td>\n",
       "      <td>2020-02-06T14:06:27+00:00</td>\n",
       "      <td>yes</td>\n",
       "      <td>Other</td>\n",
       "    </tr>\n",
       "  </tbody>\n",
       "</table>\n",
       "</div>"
      ],
      "text/plain": [
       "   phish_id                                                url  \\\n",
       "0   7368857  https://luftcomsa.com/wp-includes/fonts/tesco....   \n",
       "1   6924120  http://hunterpowersport.com/wp-includes/custom...   \n",
       "2   7046965                             https://urlth.me/jvr9U   \n",
       "3   7304838         https://sites.google.com/view/xopauyr/home   \n",
       "4   6376701  http://poligrafiapias.com/Secured-adobe/08fd9f...   \n",
       "\n",
       "                                    phish_detail_url  \\\n",
       "0  http://www.phishtank.com/phish_detail.php?phis...   \n",
       "1  http://www.phishtank.com/phish_detail.php?phis...   \n",
       "2  http://www.phishtank.com/phish_detail.php?phis...   \n",
       "3  http://www.phishtank.com/phish_detail.php?phis...   \n",
       "4  http://www.phishtank.com/phish_detail.php?phis...   \n",
       "\n",
       "             submission_time verified          verification_time online target  \n",
       "0  2021-11-30T13:45:52+00:00      yes  2021-11-30T18:42:36+00:00    yes  Tesco  \n",
       "1  2021-01-16T14:07:43+00:00      yes  2021-01-16T14:23:19+00:00    yes  Other  \n",
       "2  2021-03-27T12:42:21+00:00      yes  2021-03-27T12:44:06+00:00    yes  Other  \n",
       "3  2021-09-28T08:20:38+00:00      yes  2021-09-28T08:25:37+00:00    yes  Other  \n",
       "4  2020-01-30T02:02:10+00:00      yes  2020-02-06T14:06:27+00:00    yes  Other  "
      ]
     },
     "execution_count": 89,
     "metadata": {},
     "output_type": "execute_result"
    }
   ],
   "source": [
    "#Collecting 5,000 Phishing URLs randomly\n",
    "\n",
    "df_phishing_final = df_phishing.sample(n = 5000, random_state = 12).copy()\n",
    "df_phishing_final = df_phishing_final.reset_index(drop=True)\n",
    "df_phishing_final.head()"
   ]
  },
  {
   "cell_type": "code",
   "execution_count": 90,
   "id": "a9c46bef",
   "metadata": {},
   "outputs": [
    {
     "data": {
      "text/plain": [
       "(5000, 8)"
      ]
     },
     "execution_count": 90,
     "metadata": {},
     "output_type": "execute_result"
    }
   ],
   "source": [
    "df_phishing_final.shape"
   ]
  },
  {
   "cell_type": "markdown",
   "id": "ada0fb81",
   "metadata": {},
   "source": [
    "## 1.2. Legitimate URLs:"
   ]
  },
  {
   "cell_type": "code",
   "execution_count": 100,
   "id": "ab8c8a69",
   "metadata": {},
   "outputs": [],
   "source": [
    "path = \"Dataset//Benign_list_big_final.csv\"\n",
    "df_legitimate = pd.read_csv(path)\n",
    "df_legitimate.columns = [\"URLs\"]"
   ]
  },
  {
   "cell_type": "code",
   "execution_count": 101,
   "id": "21fc42c2",
   "metadata": {},
   "outputs": [
    {
     "data": {
      "text/html": [
       "<div>\n",
       "<style scoped>\n",
       "    .dataframe tbody tr th:only-of-type {\n",
       "        vertical-align: middle;\n",
       "    }\n",
       "\n",
       "    .dataframe tbody tr th {\n",
       "        vertical-align: top;\n",
       "    }\n",
       "\n",
       "    .dataframe thead th {\n",
       "        text-align: right;\n",
       "    }\n",
       "</style>\n",
       "<table border=\"1\" class=\"dataframe\">\n",
       "  <thead>\n",
       "    <tr style=\"text-align: right;\">\n",
       "      <th></th>\n",
       "      <th>URLs</th>\n",
       "    </tr>\n",
       "  </thead>\n",
       "  <tbody>\n",
       "    <tr>\n",
       "      <th>0</th>\n",
       "      <td>http://1337x.to/torrent/1110018/Blackhat-2015-...</td>\n",
       "    </tr>\n",
       "    <tr>\n",
       "      <th>1</th>\n",
       "      <td>http://1337x.to/torrent/1122940/Blackhat-2015-...</td>\n",
       "    </tr>\n",
       "    <tr>\n",
       "      <th>2</th>\n",
       "      <td>http://1337x.to/torrent/1124395/Fast-and-Furio...</td>\n",
       "    </tr>\n",
       "    <tr>\n",
       "      <th>3</th>\n",
       "      <td>http://1337x.to/torrent/1145504/Avengers-Age-o...</td>\n",
       "    </tr>\n",
       "    <tr>\n",
       "      <th>4</th>\n",
       "      <td>http://1337x.to/torrent/1160078/Avengers-age-o...</td>\n",
       "    </tr>\n",
       "  </tbody>\n",
       "</table>\n",
       "</div>"
      ],
      "text/plain": [
       "                                                URLs\n",
       "0  http://1337x.to/torrent/1110018/Blackhat-2015-...\n",
       "1  http://1337x.to/torrent/1122940/Blackhat-2015-...\n",
       "2  http://1337x.to/torrent/1124395/Fast-and-Furio...\n",
       "3  http://1337x.to/torrent/1145504/Avengers-Age-o...\n",
       "4  http://1337x.to/torrent/1160078/Avengers-age-o..."
      ]
     },
     "execution_count": 101,
     "metadata": {},
     "output_type": "execute_result"
    }
   ],
   "source": [
    "df_legitimate.head()"
   ]
  },
  {
   "cell_type": "code",
   "execution_count": 102,
   "id": "c82b600c",
   "metadata": {},
   "outputs": [
    {
     "data": {
      "text/html": [
       "<div>\n",
       "<style scoped>\n",
       "    .dataframe tbody tr th:only-of-type {\n",
       "        vertical-align: middle;\n",
       "    }\n",
       "\n",
       "    .dataframe tbody tr th {\n",
       "        vertical-align: top;\n",
       "    }\n",
       "\n",
       "    .dataframe thead th {\n",
       "        text-align: right;\n",
       "    }\n",
       "</style>\n",
       "<table border=\"1\" class=\"dataframe\">\n",
       "  <thead>\n",
       "    <tr style=\"text-align: right;\">\n",
       "      <th></th>\n",
       "      <th>URLs</th>\n",
       "    </tr>\n",
       "  </thead>\n",
       "  <tbody>\n",
       "    <tr>\n",
       "      <th>0</th>\n",
       "      <td>http://graphicriver.net/search?date=this-month...</td>\n",
       "    </tr>\n",
       "    <tr>\n",
       "      <th>1</th>\n",
       "      <td>http://ecnavi.jp/redirect/?url=http://www.cros...</td>\n",
       "    </tr>\n",
       "    <tr>\n",
       "      <th>2</th>\n",
       "      <td>https://hubpages.com/signin?explain=follow+Hub...</td>\n",
       "    </tr>\n",
       "    <tr>\n",
       "      <th>3</th>\n",
       "      <td>http://extratorrent.cc/torrent/4190536/AOMEI+B...</td>\n",
       "    </tr>\n",
       "    <tr>\n",
       "      <th>4</th>\n",
       "      <td>http://icicibank.com/Personal-Banking/offers/o...</td>\n",
       "    </tr>\n",
       "  </tbody>\n",
       "</table>\n",
       "</div>"
      ],
      "text/plain": [
       "                                                URLs\n",
       "0  http://graphicriver.net/search?date=this-month...\n",
       "1  http://ecnavi.jp/redirect/?url=http://www.cros...\n",
       "2  https://hubpages.com/signin?explain=follow+Hub...\n",
       "3  http://extratorrent.cc/torrent/4190536/AOMEI+B...\n",
       "4  http://icicibank.com/Personal-Banking/offers/o..."
      ]
     },
     "execution_count": 102,
     "metadata": {},
     "output_type": "execute_result"
    }
   ],
   "source": [
    "#Collecting 5,000 Legitimate URLs randomly\n",
    "\n",
    "df_legitimate_final = df_legitimate.sample(n = 5000, random_state = 12).copy()\n",
    "df_legitimate_final = df_legitimate_final.reset_index(drop=True)\n",
    "df_legitimate_final.head()"
   ]
  },
  {
   "cell_type": "code",
   "execution_count": 103,
   "id": "8662f999",
   "metadata": {},
   "outputs": [
    {
     "data": {
      "text/plain": [
       "(5000, 1)"
      ]
     },
     "execution_count": 103,
     "metadata": {},
     "output_type": "execute_result"
    }
   ],
   "source": [
    "df_legitimate_final.shape"
   ]
  },
  {
   "cell_type": "markdown",
   "id": "3366c089",
   "metadata": {},
   "source": [
    "# 2. Feature Extraction:"
   ]
  },
  {
   "cell_type": "markdown",
   "id": "260a0429",
   "metadata": {},
   "source": [
    "In this step, features are extracted from the Legitimate URLs dataset.\n",
    "\n",
    "The extracted features are categorized into;\n",
    "\n",
    "1. Address Bar based Features\n",
    "2. Domain based Features\n",
    "3. HTML & Javascript based Features"
   ]
  },
  {
   "cell_type": "markdown",
   "id": "b9c846d4",
   "metadata": {},
   "source": [
    "### 2.1. Address Bar based Features:"
   ]
  },
  {
   "cell_type": "markdown",
   "id": "6ea48d23",
   "metadata": {},
   "source": [
    "Following features are considered as address basr based features;\n",
    "\n",
    "- Domain of URL\n",
    "- IP Address in URL\n",
    "- \"@\" Symbol in URL\n",
    "- Length of URL\n",
    "- Depth of URL\n",
    "- Redirection \"//\" in URL\n",
    "- \"http/https\" in Domain name\n",
    "- Using URL Shortening Services “TinyURL”\n",
    "- Prefix or Suffix \"-\" in Domain"
   ]
  },
  {
   "cell_type": "markdown",
   "id": "2d1ed398",
   "metadata": {},
   "source": [
    "### 2.1.1. Domain of the URL:"
   ]
  },
  {
   "cell_type": "code",
   "execution_count": 122,
   "id": "29419b25",
   "metadata": {},
   "outputs": [],
   "source": [
    "# Extracting the domain of the URL\n",
    "\n",
    "def getDomain(url):\n",
    "    domain = urlparse(url).netloc\n",
    "    if re.match(r\"^www.\", domain):\n",
    "        domain = domain.replace(\"www.\", \"\")\n",
    "    return domain"
   ]
  },
  {
   "cell_type": "markdown",
   "id": "1821bdc6",
   "metadata": {},
   "source": [
    "### 2.1.2. IP Address in the URL:"
   ]
  },
  {
   "cell_type": "markdown",
   "id": "af1ddcb4",
   "metadata": {},
   "source": [
    "We would check for the presence of IP address in the URL, because URLs may have IP address instead of domain name. If an IP address is used as an alternative of the domain name in the URL this may be one of the feature of phishig website's URL.\n",
    "\n",
    "Hence, If the domain part of the URL has IP address, the value assigned to this feature is 1 (phishing) or else 0 (legitimate)."
   ]
  },
  {
   "cell_type": "code",
   "execution_count": 128,
   "id": "64d76219",
   "metadata": {},
   "outputs": [],
   "source": [
    "# Returns bool(True/False), whether the URL contains IP Address or not\n",
    "\n",
    "def checkIP(url):\n",
    "    try:\n",
    "        ipaddress.ip_address(url)\n",
    "        return True\n",
    "    except:\n",
    "        return False"
   ]
  },
  {
   "cell_type": "markdown",
   "id": "275f7fbf",
   "metadata": {},
   "source": [
    "### 2.1.3. \"@\" Symbol in the URL:"
   ]
  },
  {
   "cell_type": "markdown",
   "id": "245ee505",
   "metadata": {},
   "source": [
    "We would check for the presence of \"@\" symbol in the URL, because URLs containing \"@\" symbol leads the browser to ignore everything preceding the “@” symbol and the real address often follows the “@” symbol.\n",
    "\n",
    "Hence, If the \"@\" symbol is present in the URL, the value assigned to this feature is 1 (phishing) or else 0 (legitimate)."
   ]
  },
  {
   "cell_type": "code",
   "execution_count": 133,
   "id": "ec574d7d",
   "metadata": {},
   "outputs": [],
   "source": [
    "def checkAtSymbol(url):\n",
    "    if (\"@\" in url):\n",
    "        return True\n",
    "    else:\n",
    "        return False"
   ]
  },
  {
   "cell_type": "markdown",
   "id": "944b5ee8",
   "metadata": {},
   "source": [
    "### 2.1.4. Length of the URL:"
   ]
  },
  {
   "cell_type": "markdown",
   "id": "6504a0b2",
   "metadata": {},
   "source": [
    "Here we would compute the length of the URL. Phishers can use long URL to hide the doubtful part in the address bar. Therefore, if the length of the URL is greater than or equal 54 characters then the URL is classified as phishing otherwise legitimate.\n",
    "\n",
    "Hence, If the length of URL >= 54, the value assigned to this feature is 1 (phishing) or else 0 (legitimate)."
   ]
  },
  {
   "cell_type": "code",
   "execution_count": 136,
   "id": "5123b564",
   "metadata": {},
   "outputs": [],
   "source": [
    "def lengthUrl(url):\n",
    "    if(len(url) >= 54):\n",
    "        return 1\n",
    "    else:\n",
    "        return 0"
   ]
  },
  {
   "cell_type": "markdown",
   "id": "5bccec24",
   "metadata": {},
   "source": [
    "### 2.1.5. Depth of the URL:"
   ]
  },
  {
   "cell_type": "markdown",
   "id": "76eb6f85",
   "metadata": {},
   "source": [
    "Here, we would compute the depth of the URL. This feature calculates the number of sub pages in the given url based on the '/'."
   ]
  },
  {
   "cell_type": "code",
   "execution_count": 150,
   "id": "cd7873af",
   "metadata": {},
   "outputs": [],
   "source": [
    "def depthUrl(url):\n",
    "    depth = 0\n",
    "    urlSplit = urlparse(url).path.split('/')\n",
    "    for i in range(len(urlSplit)):\n",
    "        if(len(urlSplit[i]) != 0):\n",
    "            depth += 1\n",
    "    return depth"
   ]
  },
  {
   "cell_type": "markdown",
   "id": "dff7aea1",
   "metadata": {},
   "source": [
    "### 2.1.6. Redirection \"//\" in the URL:"
   ]
  },
  {
   "cell_type": "markdown",
   "id": "d70842d3",
   "metadata": {},
   "source": [
    "We would check the presence of \"//\" in the URL. The existence of “//” within the URL path means that the user will be redirected to another website. We find that if the URL starts with “HTTP”, that means the “//” should appear in the 5th position. However, if the URL employs “HTTPS” then the “//” should appear in 6th position.\n",
    "\n",
    "If the \"//\" is anywhere else in the URL, the value assigned to this feature is 1 (phishing) or else 0 (legitimate)."
   ]
  },
  {
   "cell_type": "code",
   "execution_count": 159,
   "id": "48867f27",
   "metadata": {},
   "outputs": [],
   "source": [
    "def checkRedirUrl(url):\n",
    "    pos = url.rfind(\"//\")\n",
    "    if(pos > 6):\n",
    "        return 1\n",
    "    else:\n",
    "        return 0"
   ]
  },
  {
   "cell_type": "markdown",
   "id": "eb150b5d",
   "metadata": {},
   "source": [
    "### 2.1.7. \"http/https\" in the Domain name:"
   ]
  },
  {
   "cell_type": "markdown",
   "id": "4f722293",
   "metadata": {},
   "source": [
    "We would check for the presence of \"http/https\" in the domain part of the URL. The phishers may add the “HTTPS” token to the domain part of a URL in order to trick users.\n",
    "\n",
    "Hence, If the URL has \"http/https\" in the domain part, the value assigned to this feature is 1 (phishing) or else 0 (legitimate)."
   ]
  },
  {
   "cell_type": "code",
   "execution_count": 164,
   "id": "87c96bbe",
   "metadata": {},
   "outputs": [],
   "source": [
    "def checkHttpDomain(url):\n",
    "    domain = urlparse(url).netloc\n",
    "    if(\"http\" in domain or \"https\" in domain):\n",
    "        return 1\n",
    "    else: \n",
    "        return 0"
   ]
  },
  {
   "cell_type": "markdown",
   "id": "8fdd2c32",
   "metadata": {},
   "source": [
    "### 2.1.8. Using URL Shortening Services “TinyURL”:"
   ]
  },
  {
   "cell_type": "markdown",
   "id": "db61527d",
   "metadata": {},
   "source": [
    "URL shortening is a method on the “World Wide Web” in which a URL may be made smaller in length and still lead to the required webpage. This is accomplished by means of an “HTTP Redirect” on a domain name that is short, which links to the webpage that has a long URL.\n",
    "\n",
    "Hence, If the URL is using Shortening Services, the value assigned to this feature is 1 (phishing) or else 0 (legitimate)."
   ]
  },
  {
   "cell_type": "code",
   "execution_count": 170,
   "id": "07a70947",
   "metadata": {},
   "outputs": [],
   "source": [
    "#listing atll the shortening services\n",
    "all_shortening_services = r\"bit\\.ly|goo\\.gl|shorte\\.st|go2l\\.ink|x\\.co|ow\\.ly|t\\.co|tinyurl|tr\\.im|is\\.gd|cli\\.gs|\" \\\n",
    "                      r\"yfrog\\.com|migre\\.me|ff\\.im|tiny\\.cc|url4\\.eu|twit\\.ac|su\\.pr|twurl\\.nl|snipurl\\.com|\" \\\n",
    "                      r\"short\\.to|BudURL\\.com|ping\\.fm|post\\.ly|Just\\.as|bkite\\.com|snipr\\.com|fic\\.kr|loopt\\.us|\" \\\n",
    "                      r\"doiop\\.com|short\\.ie|kl\\.am|wp\\.me|rubyurl\\.com|om\\.ly|to\\.ly|bit\\.do|t\\.co|lnkd\\.in|db\\.tt|\" \\\n",
    "                      r\"qr\\.ae|adf\\.ly|goo\\.gl|bitly\\.com|cur\\.lv|tinyurl\\.com|ow\\.ly|bit\\.ly|ity\\.im|q\\.gs|is\\.gd|\" \\\n",
    "                      r\"po\\.st|bc\\.vc|twitthis\\.com|u\\.to|j\\.mp|buzurl\\.com|cutt\\.us|u\\.bb|yourls\\.org|x\\.co|\" \\\n",
    "                      r\"prettylinkpro\\.com|scrnch\\.me|filoops\\.info|vzturl\\.com|qr\\.net|1url\\.com|tweez\\.me|v\\.gd|\" \\\n",
    "                      r\"tr\\.im|link\\.zip\\.net\""
   ]
  },
  {
   "cell_type": "code",
   "execution_count": 173,
   "id": "5c611fe7",
   "metadata": {},
   "outputs": [],
   "source": [
    "# Checking for Shortening Services present in the URL.\n",
    "\n",
    "def checkShortUrl(url):\n",
    "    if re.search(all_shortening_services, url):\n",
    "        return 1\n",
    "    else:\n",
    "        return 0"
   ]
  },
  {
   "cell_type": "markdown",
   "id": "799d10fa",
   "metadata": {},
   "source": [
    "### 2.1.9. Prefix or Suffix \"-\" in the Domain:"
   ]
  },
  {
   "cell_type": "markdown",
   "id": "42e9fe3f",
   "metadata": {},
   "source": [
    "We would check the presence of '-' in the domain part of URL. The dash symbol is rarely used in legitimate URLs. Phishers tend to add prefixes or suffixes separated by (-) to the domain name so that users feel that they are dealing with a legitimate webpage.\n",
    "\n",
    "Hence, If the URL has '-' symbol in the domain part of the URL, the value assigned to this feature is 1 (phishing) or else 0 (legitimate)."
   ]
  },
  {
   "cell_type": "code",
   "execution_count": 182,
   "id": "6aa06b70",
   "metadata": {},
   "outputs": [],
   "source": [
    "def checkPrefSuff(url):\n",
    "    if \"-\" in urlparse(url).netloc:\n",
    "        return 1\n",
    "    else:\n",
    "        return 0"
   ]
  },
  {
   "cell_type": "markdown",
   "id": "a55a80fb",
   "metadata": {},
   "source": [
    "# 3. Domain based Features:"
   ]
  },
  {
   "cell_type": "markdown",
   "id": "f48e841c",
   "metadata": {},
   "source": [
    "The extracted features are categorized into;\n",
    "\n",
    "1. DNS Record\n",
    "2. Website Traffic\n",
    "3. Age of Domain\n",
    "3. End Period of Domain"
   ]
  },
  {
   "cell_type": "code",
   "execution_count": null,
   "id": "21ddcb2b",
   "metadata": {},
   "outputs": [],
   "source": []
  }
 ],
 "metadata": {
  "kernelspec": {
   "display_name": "Python 3",
   "language": "python",
   "name": "python3"
  },
  "language_info": {
   "codemirror_mode": {
    "name": "ipython",
    "version": 3
   },
   "file_extension": ".py",
   "mimetype": "text/x-python",
   "name": "python",
   "nbconvert_exporter": "python",
   "pygments_lexer": "ipython3",
   "version": "3.8.8"
  }
 },
 "nbformat": 4,
 "nbformat_minor": 5
}
