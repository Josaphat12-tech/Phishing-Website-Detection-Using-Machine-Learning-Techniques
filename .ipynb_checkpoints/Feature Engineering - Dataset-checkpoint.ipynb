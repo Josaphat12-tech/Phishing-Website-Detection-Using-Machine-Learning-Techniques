{
 "cells": [
  {
   "cell_type": "markdown",
   "id": "4344955c",
   "metadata": {},
   "source": [
    "# Phishing Website Detection by Machine Learning - Feature Extraction"
   ]
  },
  {
   "cell_type": "markdown",
   "id": "fac6cf4b",
   "metadata": {},
   "source": [
    "This notebook aims to collect the relevant data and extract the selective features."
   ]
  },
  {
   "cell_type": "code",
   "execution_count": 104,
   "id": "9b47fe18",
   "metadata": {},
   "outputs": [],
   "source": [
    "import os\n",
    "import requests\n",
    "import pandas as pd\n",
    "from urllib.parse import urlparse,urlencode\n",
    "import ipaddress\n",
    "import re"
   ]
  },
  {
   "cell_type": "markdown",
   "id": "8fe32fc9",
   "metadata": {},
   "source": [
    "# 1. Data Collection:"
   ]
  },
  {
   "cell_type": "markdown",
   "id": "912c7ebb",
   "metadata": {},
   "source": [
    "For this project we are required to collect legitimate(0) and phishing URLs.\n",
    "\n",
    "- Phishing URLs are collected using opensource service called PhishTank, http://data.phishtank.com/data/online-valid.json.\n",
    "- Legitimate URLs are collected using dataset provided by University of New Brunswick, https://www.unb.ca/cic/datasets/url-2016.html. The number of legitimate URLs in this collection are 35,300. Among all the files, 'Benign_list_big_final.csv' is the file of our interest. "
   ]
  },
  {
   "cell_type": "markdown",
   "id": "819b0794",
   "metadata": {},
   "source": [
    "## 1.1. Phishing URLs:"
   ]
  },
  {
   "cell_type": "markdown",
   "id": "5d932fda",
   "metadata": {},
   "source": [
    "Phishing URLs are collected using PhishTank and loaded into the DataFrame."
   ]
  },
  {
   "cell_type": "code",
   "execution_count": 84,
   "id": "971ac9b6",
   "metadata": {},
   "outputs": [],
   "source": [
    "#Downloading the phishing URLs file\n",
    "\n",
    "CSV_URL = 'http://data.phishtank.com/data/online-valid.csv'\n",
    "\n",
    "with open(\"Dataset/\" + os.path.split(CSV_URL)[1] , 'wb') as f, \\\n",
    "        requests.get(CSV_URL, stream=True) as r:\n",
    "    for line in r.iter_lines():\n",
    "        f.write(line+'\\n'.encode())"
   ]
  },
  {
   "cell_type": "code",
   "execution_count": 85,
   "id": "34f6ab5a",
   "metadata": {},
   "outputs": [],
   "source": [
    "path = \"Dataset//online-valid.csv\"\n",
    "df_phishing = pd.read_csv(path)"
   ]
  },
  {
   "cell_type": "code",
   "execution_count": 86,
   "id": "1cfc343b",
   "metadata": {},
   "outputs": [
    {
     "data": {
      "text/html": [
       "<div>\n",
       "<style scoped>\n",
       "    .dataframe tbody tr th:only-of-type {\n",
       "        vertical-align: middle;\n",
       "    }\n",
       "\n",
       "    .dataframe tbody tr th {\n",
       "        vertical-align: top;\n",
       "    }\n",
       "\n",
       "    .dataframe thead th {\n",
       "        text-align: right;\n",
       "    }\n",
       "</style>\n",
       "<table border=\"1\" class=\"dataframe\">\n",
       "  <thead>\n",
       "    <tr style=\"text-align: right;\">\n",
       "      <th></th>\n",
       "      <th>phish_id</th>\n",
       "      <th>url</th>\n",
       "      <th>phish_detail_url</th>\n",
       "      <th>submission_time</th>\n",
       "      <th>verified</th>\n",
       "      <th>verification_time</th>\n",
       "      <th>online</th>\n",
       "      <th>target</th>\n",
       "    </tr>\n",
       "  </thead>\n",
       "  <tbody>\n",
       "    <tr>\n",
       "      <th>0</th>\n",
       "      <td>7373519</td>\n",
       "      <td>http://uat.bakebe.com/de/bw-bank/</td>\n",
       "      <td>http://www.phishtank.com/phish_detail.php?phis...</td>\n",
       "      <td>2021-12-04T19:45:21+00:00</td>\n",
       "      <td>yes</td>\n",
       "      <td>2021-12-04T20:05:02+00:00</td>\n",
       "      <td>yes</td>\n",
       "      <td>Other</td>\n",
       "    </tr>\n",
       "    <tr>\n",
       "      <th>1</th>\n",
       "      <td>7373479</td>\n",
       "      <td>https://mercarir.jp.dbctscc.cn</td>\n",
       "      <td>http://www.phishtank.com/phish_detail.php?phis...</td>\n",
       "      <td>2021-12-04T18:04:30+00:00</td>\n",
       "      <td>yes</td>\n",
       "      <td>2021-12-04T19:52:04+00:00</td>\n",
       "      <td>yes</td>\n",
       "      <td>Other</td>\n",
       "    </tr>\n",
       "    <tr>\n",
       "      <th>2</th>\n",
       "      <td>7373476</td>\n",
       "      <td>https://www.bancowlnterbank.com/</td>\n",
       "      <td>http://www.phishtank.com/phish_detail.php?phis...</td>\n",
       "      <td>2021-12-04T17:53:44+00:00</td>\n",
       "      <td>yes</td>\n",
       "      <td>2021-12-04T18:10:52+00:00</td>\n",
       "      <td>yes</td>\n",
       "      <td>Other</td>\n",
       "    </tr>\n",
       "    <tr>\n",
       "      <th>3</th>\n",
       "      <td>7373471</td>\n",
       "      <td>https://clientedescontaoitau.000webhostapp.com/</td>\n",
       "      <td>http://www.phishtank.com/phish_detail.php?phis...</td>\n",
       "      <td>2021-12-04T17:35:13+00:00</td>\n",
       "      <td>yes</td>\n",
       "      <td>2021-12-04T19:42:55+00:00</td>\n",
       "      <td>yes</td>\n",
       "      <td>Itau</td>\n",
       "    </tr>\n",
       "    <tr>\n",
       "      <th>4</th>\n",
       "      <td>7373461</td>\n",
       "      <td>https://verifiedsbcglobal.weebly.com/</td>\n",
       "      <td>http://www.phishtank.com/phish_detail.php?phis...</td>\n",
       "      <td>2021-12-04T16:36:02+00:00</td>\n",
       "      <td>yes</td>\n",
       "      <td>2021-12-04T18:10:52+00:00</td>\n",
       "      <td>yes</td>\n",
       "      <td>Other</td>\n",
       "    </tr>\n",
       "  </tbody>\n",
       "</table>\n",
       "</div>"
      ],
      "text/plain": [
       "   phish_id                                              url  \\\n",
       "0   7373519                http://uat.bakebe.com/de/bw-bank/   \n",
       "1   7373479                   https://mercarir.jp.dbctscc.cn   \n",
       "2   7373476                 https://www.bancowlnterbank.com/   \n",
       "3   7373471  https://clientedescontaoitau.000webhostapp.com/   \n",
       "4   7373461            https://verifiedsbcglobal.weebly.com/   \n",
       "\n",
       "                                    phish_detail_url  \\\n",
       "0  http://www.phishtank.com/phish_detail.php?phis...   \n",
       "1  http://www.phishtank.com/phish_detail.php?phis...   \n",
       "2  http://www.phishtank.com/phish_detail.php?phis...   \n",
       "3  http://www.phishtank.com/phish_detail.php?phis...   \n",
       "4  http://www.phishtank.com/phish_detail.php?phis...   \n",
       "\n",
       "             submission_time verified          verification_time online target  \n",
       "0  2021-12-04T19:45:21+00:00      yes  2021-12-04T20:05:02+00:00    yes  Other  \n",
       "1  2021-12-04T18:04:30+00:00      yes  2021-12-04T19:52:04+00:00    yes  Other  \n",
       "2  2021-12-04T17:53:44+00:00      yes  2021-12-04T18:10:52+00:00    yes  Other  \n",
       "3  2021-12-04T17:35:13+00:00      yes  2021-12-04T19:42:55+00:00    yes   Itau  \n",
       "4  2021-12-04T16:36:02+00:00      yes  2021-12-04T18:10:52+00:00    yes  Other  "
      ]
     },
     "execution_count": 86,
     "metadata": {},
     "output_type": "execute_result"
    }
   ],
   "source": [
    "df_phishing.head()"
   ]
  },
  {
   "cell_type": "code",
   "execution_count": 87,
   "id": "f8f12677",
   "metadata": {},
   "outputs": [
    {
     "data": {
      "text/plain": [
       "phish_id             0\n",
       "url                  0\n",
       "phish_detail_url     0\n",
       "submission_time      0\n",
       "verified             0\n",
       "verification_time    0\n",
       "online               0\n",
       "target               0\n",
       "dtype: int64"
      ]
     },
     "execution_count": 87,
     "metadata": {},
     "output_type": "execute_result"
    }
   ],
   "source": [
    "df_phishing.isnull().sum()"
   ]
  },
  {
   "cell_type": "code",
   "execution_count": 88,
   "id": "033ee81b",
   "metadata": {},
   "outputs": [
    {
     "data": {
      "text/plain": [
       "(12479, 8)"
      ]
     },
     "execution_count": 88,
     "metadata": {},
     "output_type": "execute_result"
    }
   ],
   "source": [
    "df_phishing.shape"
   ]
  },
  {
   "cell_type": "markdown",
   "id": "0c803825",
   "metadata": {},
   "source": [
    "We would pick up 5000 samples from the above dataframe randomly."
   ]
  },
  {
   "cell_type": "code",
   "execution_count": 89,
   "id": "f46f9c73",
   "metadata": {},
   "outputs": [
    {
     "data": {
      "text/html": [
       "<div>\n",
       "<style scoped>\n",
       "    .dataframe tbody tr th:only-of-type {\n",
       "        vertical-align: middle;\n",
       "    }\n",
       "\n",
       "    .dataframe tbody tr th {\n",
       "        vertical-align: top;\n",
       "    }\n",
       "\n",
       "    .dataframe thead th {\n",
       "        text-align: right;\n",
       "    }\n",
       "</style>\n",
       "<table border=\"1\" class=\"dataframe\">\n",
       "  <thead>\n",
       "    <tr style=\"text-align: right;\">\n",
       "      <th></th>\n",
       "      <th>phish_id</th>\n",
       "      <th>url</th>\n",
       "      <th>phish_detail_url</th>\n",
       "      <th>submission_time</th>\n",
       "      <th>verified</th>\n",
       "      <th>verification_time</th>\n",
       "      <th>online</th>\n",
       "      <th>target</th>\n",
       "    </tr>\n",
       "  </thead>\n",
       "  <tbody>\n",
       "    <tr>\n",
       "      <th>0</th>\n",
       "      <td>7368857</td>\n",
       "      <td>https://luftcomsa.com/wp-includes/fonts/tesco....</td>\n",
       "      <td>http://www.phishtank.com/phish_detail.php?phis...</td>\n",
       "      <td>2021-11-30T13:45:52+00:00</td>\n",
       "      <td>yes</td>\n",
       "      <td>2021-11-30T18:42:36+00:00</td>\n",
       "      <td>yes</td>\n",
       "      <td>Tesco</td>\n",
       "    </tr>\n",
       "    <tr>\n",
       "      <th>1</th>\n",
       "      <td>6924120</td>\n",
       "      <td>http://hunterpowersport.com/wp-includes/custom...</td>\n",
       "      <td>http://www.phishtank.com/phish_detail.php?phis...</td>\n",
       "      <td>2021-01-16T14:07:43+00:00</td>\n",
       "      <td>yes</td>\n",
       "      <td>2021-01-16T14:23:19+00:00</td>\n",
       "      <td>yes</td>\n",
       "      <td>Other</td>\n",
       "    </tr>\n",
       "    <tr>\n",
       "      <th>2</th>\n",
       "      <td>7046965</td>\n",
       "      <td>https://urlth.me/jvr9U</td>\n",
       "      <td>http://www.phishtank.com/phish_detail.php?phis...</td>\n",
       "      <td>2021-03-27T12:42:21+00:00</td>\n",
       "      <td>yes</td>\n",
       "      <td>2021-03-27T12:44:06+00:00</td>\n",
       "      <td>yes</td>\n",
       "      <td>Other</td>\n",
       "    </tr>\n",
       "    <tr>\n",
       "      <th>3</th>\n",
       "      <td>7304838</td>\n",
       "      <td>https://sites.google.com/view/xopauyr/home</td>\n",
       "      <td>http://www.phishtank.com/phish_detail.php?phis...</td>\n",
       "      <td>2021-09-28T08:20:38+00:00</td>\n",
       "      <td>yes</td>\n",
       "      <td>2021-09-28T08:25:37+00:00</td>\n",
       "      <td>yes</td>\n",
       "      <td>Other</td>\n",
       "    </tr>\n",
       "    <tr>\n",
       "      <th>4</th>\n",
       "      <td>6376701</td>\n",
       "      <td>http://poligrafiapias.com/Secured-adobe/08fd9f...</td>\n",
       "      <td>http://www.phishtank.com/phish_detail.php?phis...</td>\n",
       "      <td>2020-01-30T02:02:10+00:00</td>\n",
       "      <td>yes</td>\n",
       "      <td>2020-02-06T14:06:27+00:00</td>\n",
       "      <td>yes</td>\n",
       "      <td>Other</td>\n",
       "    </tr>\n",
       "  </tbody>\n",
       "</table>\n",
       "</div>"
      ],
      "text/plain": [
       "   phish_id                                                url  \\\n",
       "0   7368857  https://luftcomsa.com/wp-includes/fonts/tesco....   \n",
       "1   6924120  http://hunterpowersport.com/wp-includes/custom...   \n",
       "2   7046965                             https://urlth.me/jvr9U   \n",
       "3   7304838         https://sites.google.com/view/xopauyr/home   \n",
       "4   6376701  http://poligrafiapias.com/Secured-adobe/08fd9f...   \n",
       "\n",
       "                                    phish_detail_url  \\\n",
       "0  http://www.phishtank.com/phish_detail.php?phis...   \n",
       "1  http://www.phishtank.com/phish_detail.php?phis...   \n",
       "2  http://www.phishtank.com/phish_detail.php?phis...   \n",
       "3  http://www.phishtank.com/phish_detail.php?phis...   \n",
       "4  http://www.phishtank.com/phish_detail.php?phis...   \n",
       "\n",
       "             submission_time verified          verification_time online target  \n",
       "0  2021-11-30T13:45:52+00:00      yes  2021-11-30T18:42:36+00:00    yes  Tesco  \n",
       "1  2021-01-16T14:07:43+00:00      yes  2021-01-16T14:23:19+00:00    yes  Other  \n",
       "2  2021-03-27T12:42:21+00:00      yes  2021-03-27T12:44:06+00:00    yes  Other  \n",
       "3  2021-09-28T08:20:38+00:00      yes  2021-09-28T08:25:37+00:00    yes  Other  \n",
       "4  2020-01-30T02:02:10+00:00      yes  2020-02-06T14:06:27+00:00    yes  Other  "
      ]
     },
     "execution_count": 89,
     "metadata": {},
     "output_type": "execute_result"
    }
   ],
   "source": [
    "#Collecting 5,000 Phishing URLs randomly\n",
    "\n",
    "df_phishing_final = df_phishing.sample(n = 5000, random_state = 12).copy()\n",
    "df_phishing_final = df_phishing_final.reset_index(drop=True)\n",
    "df_phishing_final.head()"
   ]
  },
  {
   "cell_type": "code",
   "execution_count": 90,
   "id": "22cad9e7",
   "metadata": {},
   "outputs": [
    {
     "data": {
      "text/plain": [
       "(5000, 8)"
      ]
     },
     "execution_count": 90,
     "metadata": {},
     "output_type": "execute_result"
    }
   ],
   "source": [
    "df_phishing_final.shape"
   ]
  },
  {
   "cell_type": "markdown",
   "id": "1ed07a05",
   "metadata": {},
   "source": [
    "## 1.2. Legitimate URLs:"
   ]
  },
  {
   "cell_type": "code",
   "execution_count": 100,
   "id": "e0786bca",
   "metadata": {},
   "outputs": [],
   "source": [
    "path = \"Dataset//Benign_list_big_final.csv\"\n",
    "df_legitimate = pd.read_csv(path)\n",
    "df_legitimate.columns = [\"URLs\"]"
   ]
  },
  {
   "cell_type": "code",
   "execution_count": 101,
   "id": "61969f7b",
   "metadata": {},
   "outputs": [
    {
     "data": {
      "text/html": [
       "<div>\n",
       "<style scoped>\n",
       "    .dataframe tbody tr th:only-of-type {\n",
       "        vertical-align: middle;\n",
       "    }\n",
       "\n",
       "    .dataframe tbody tr th {\n",
       "        vertical-align: top;\n",
       "    }\n",
       "\n",
       "    .dataframe thead th {\n",
       "        text-align: right;\n",
       "    }\n",
       "</style>\n",
       "<table border=\"1\" class=\"dataframe\">\n",
       "  <thead>\n",
       "    <tr style=\"text-align: right;\">\n",
       "      <th></th>\n",
       "      <th>URLs</th>\n",
       "    </tr>\n",
       "  </thead>\n",
       "  <tbody>\n",
       "    <tr>\n",
       "      <th>0</th>\n",
       "      <td>http://1337x.to/torrent/1110018/Blackhat-2015-...</td>\n",
       "    </tr>\n",
       "    <tr>\n",
       "      <th>1</th>\n",
       "      <td>http://1337x.to/torrent/1122940/Blackhat-2015-...</td>\n",
       "    </tr>\n",
       "    <tr>\n",
       "      <th>2</th>\n",
       "      <td>http://1337x.to/torrent/1124395/Fast-and-Furio...</td>\n",
       "    </tr>\n",
       "    <tr>\n",
       "      <th>3</th>\n",
       "      <td>http://1337x.to/torrent/1145504/Avengers-Age-o...</td>\n",
       "    </tr>\n",
       "    <tr>\n",
       "      <th>4</th>\n",
       "      <td>http://1337x.to/torrent/1160078/Avengers-age-o...</td>\n",
       "    </tr>\n",
       "  </tbody>\n",
       "</table>\n",
       "</div>"
      ],
      "text/plain": [
       "                                                URLs\n",
       "0  http://1337x.to/torrent/1110018/Blackhat-2015-...\n",
       "1  http://1337x.to/torrent/1122940/Blackhat-2015-...\n",
       "2  http://1337x.to/torrent/1124395/Fast-and-Furio...\n",
       "3  http://1337x.to/torrent/1145504/Avengers-Age-o...\n",
       "4  http://1337x.to/torrent/1160078/Avengers-age-o..."
      ]
     },
     "execution_count": 101,
     "metadata": {},
     "output_type": "execute_result"
    }
   ],
   "source": [
    "df_legitimate.head()"
   ]
  },
  {
   "cell_type": "code",
   "execution_count": 102,
   "id": "ce84811f",
   "metadata": {},
   "outputs": [
    {
     "data": {
      "text/html": [
       "<div>\n",
       "<style scoped>\n",
       "    .dataframe tbody tr th:only-of-type {\n",
       "        vertical-align: middle;\n",
       "    }\n",
       "\n",
       "    .dataframe tbody tr th {\n",
       "        vertical-align: top;\n",
       "    }\n",
       "\n",
       "    .dataframe thead th {\n",
       "        text-align: right;\n",
       "    }\n",
       "</style>\n",
       "<table border=\"1\" class=\"dataframe\">\n",
       "  <thead>\n",
       "    <tr style=\"text-align: right;\">\n",
       "      <th></th>\n",
       "      <th>URLs</th>\n",
       "    </tr>\n",
       "  </thead>\n",
       "  <tbody>\n",
       "    <tr>\n",
       "      <th>0</th>\n",
       "      <td>http://graphicriver.net/search?date=this-month...</td>\n",
       "    </tr>\n",
       "    <tr>\n",
       "      <th>1</th>\n",
       "      <td>http://ecnavi.jp/redirect/?url=http://www.cros...</td>\n",
       "    </tr>\n",
       "    <tr>\n",
       "      <th>2</th>\n",
       "      <td>https://hubpages.com/signin?explain=follow+Hub...</td>\n",
       "    </tr>\n",
       "    <tr>\n",
       "      <th>3</th>\n",
       "      <td>http://extratorrent.cc/torrent/4190536/AOMEI+B...</td>\n",
       "    </tr>\n",
       "    <tr>\n",
       "      <th>4</th>\n",
       "      <td>http://icicibank.com/Personal-Banking/offers/o...</td>\n",
       "    </tr>\n",
       "  </tbody>\n",
       "</table>\n",
       "</div>"
      ],
      "text/plain": [
       "                                                URLs\n",
       "0  http://graphicriver.net/search?date=this-month...\n",
       "1  http://ecnavi.jp/redirect/?url=http://www.cros...\n",
       "2  https://hubpages.com/signin?explain=follow+Hub...\n",
       "3  http://extratorrent.cc/torrent/4190536/AOMEI+B...\n",
       "4  http://icicibank.com/Personal-Banking/offers/o..."
      ]
     },
     "execution_count": 102,
     "metadata": {},
     "output_type": "execute_result"
    }
   ],
   "source": [
    "#Collecting 5,000 Legitimate URLs randomly\n",
    "\n",
    "df_legitimate_final = df_legitimate.sample(n = 5000, random_state = 12).copy()\n",
    "df_legitimate_final = df_legitimate_final.reset_index(drop=True)\n",
    "df_legitimate_final.head()"
   ]
  },
  {
   "cell_type": "code",
   "execution_count": 103,
   "id": "685c64f3",
   "metadata": {},
   "outputs": [
    {
     "data": {
      "text/plain": [
       "(5000, 1)"
      ]
     },
     "execution_count": 103,
     "metadata": {},
     "output_type": "execute_result"
    }
   ],
   "source": [
    "df_legitimate_final.shape"
   ]
  },
  {
   "cell_type": "markdown",
   "id": "5294730e",
   "metadata": {},
   "source": [
    "# 2. Feature Extraction:"
   ]
  },
  {
   "cell_type": "markdown",
   "id": "2bebe152",
   "metadata": {},
   "source": [
    "In this step, features are extracted from the Legitimate URLs dataset.\n",
    "\n",
    "The extracted features are categorized into;\n",
    "\n",
    "1. Address Bar based Features\n",
    "2. Domain based Features\n",
    "3. HTML & Javascript based Features"
   ]
  },
  {
   "cell_type": "markdown",
   "id": "f7737b81",
   "metadata": {},
   "source": [
    "### 2.1. Address Bar based Features:"
   ]
  },
  {
   "cell_type": "markdown",
   "id": "0a5e8757",
   "metadata": {},
   "source": [
    "Following features are considered as address basr based features;\n",
    "\n",
    "- Domain of URL\n",
    "- IP Address in URL\n",
    "- \"@\" Symbol in URL\n",
    "- Length of URL\n",
    "- Depth of URL\n",
    "- Redirection \"//\" in URL\n",
    "- \"http/https\" in Domain name\n",
    "- Using URL Shortening Services “TinyURL”\n",
    "- Prefix or Suffix \"-\" in Domain"
   ]
  },
  {
   "cell_type": "code",
   "execution_count": null,
   "id": "c7e4b17b",
   "metadata": {},
   "outputs": [],
   "source": []
  }
 ],
 "metadata": {
  "kernelspec": {
   "display_name": "Python 3",
   "language": "python",
   "name": "python3"
  },
  "language_info": {
   "codemirror_mode": {
    "name": "ipython",
    "version": 3
   },
   "file_extension": ".py",
   "mimetype": "text/x-python",
   "name": "python",
   "nbconvert_exporter": "python",
   "pygments_lexer": "ipython3",
   "version": "3.8.8"
  }
 },
 "nbformat": 4,
 "nbformat_minor": 5
}
