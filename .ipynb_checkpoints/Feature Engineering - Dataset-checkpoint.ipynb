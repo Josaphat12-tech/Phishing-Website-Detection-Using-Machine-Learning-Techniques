{
 "cells": [
  {
   "cell_type": "markdown",
   "id": "a9773ad8",
   "metadata": {},
   "source": [
    "# Phishing Website Detection by Machine Learning - Feature Extraction"
   ]
  },
  {
   "cell_type": "markdown",
   "id": "fb877368",
   "metadata": {},
   "source": [
    "This notebook aims to collect the relevant data and extract the selective features."
   ]
  },
  {
   "cell_type": "code",
   "execution_count": 1,
   "id": "175f5745",
   "metadata": {},
   "outputs": [],
   "source": [
    "import os\n",
    "import requests\n",
    "import pandas as pd\n",
    "from urllib.parse import urlparse, urlencode\n",
    "import ipaddress\n",
    "import re\n",
    "from bs4 import BeautifulSoup\n",
    "import urllib\n",
    "import urllib.request\n",
    "from datetime import datetime"
   ]
  },
  {
   "cell_type": "markdown",
   "id": "e0a428e4",
   "metadata": {},
   "source": [
    "# 1. Data Collection:"
   ]
  },
  {
   "cell_type": "markdown",
   "id": "9f7cc7c7",
   "metadata": {},
   "source": [
    "For this project we are required to collect legitimate(0) and phishing URLs.\n",
    "\n",
    "- Phishing URLs are collected using opensource service called PhishTank, http://data.phishtank.com/data/online-valid.csv.\n",
    "- Legitimate URLs are collected using dataset provided by University of New Brunswick, https://www.unb.ca/cic/datasets/url-2016.html. The number of legitimate URLs in this collection are 35,300. Among all the files, 'Benign_list_big_final.csv' is the file of our interest. "
   ]
  },
  {
   "cell_type": "markdown",
   "id": "ae0f12f2",
   "metadata": {},
   "source": [
    "## 1.1. Phishing URLs:"
   ]
  },
  {
   "cell_type": "markdown",
   "id": "913a6cab",
   "metadata": {},
   "source": [
    "Phishing URLs are collected using PhishTank and loaded into the DataFrame."
   ]
  },
  {
   "cell_type": "code",
   "execution_count": 2,
   "id": "911da634",
   "metadata": {},
   "outputs": [],
   "source": [
    "# #Downloading the phishing URLs file\n",
    "\n",
    "# CSV_URL = 'http://data.phishtank.com/data/online-valid.csv'\n",
    "\n",
    "# with open(\"Dataset/\" + os.path.split(CSV_URL)[1] , 'wb') as f, \\\n",
    "#         requests.get(CSV_URL, stream=True) as r:\n",
    "#     for line in r.iter_lines():\n",
    "#         f.write(line+'\\n'.encode())"
   ]
  },
  {
   "cell_type": "code",
   "execution_count": 3,
   "id": "624d7620",
   "metadata": {},
   "outputs": [],
   "source": [
    "path = \"Dataset//online-valid.csv\"\n",
    "df_phishing = pd.read_csv(path)"
   ]
  },
  {
   "cell_type": "code",
   "execution_count": 4,
   "id": "ec861eb3",
   "metadata": {},
   "outputs": [
    {
     "data": {
      "text/html": [
       "<div>\n",
       "<style scoped>\n",
       "    .dataframe tbody tr th:only-of-type {\n",
       "        vertical-align: middle;\n",
       "    }\n",
       "\n",
       "    .dataframe tbody tr th {\n",
       "        vertical-align: top;\n",
       "    }\n",
       "\n",
       "    .dataframe thead th {\n",
       "        text-align: right;\n",
       "    }\n",
       "</style>\n",
       "<table border=\"1\" class=\"dataframe\">\n",
       "  <thead>\n",
       "    <tr style=\"text-align: right;\">\n",
       "      <th></th>\n",
       "      <th>phish_id</th>\n",
       "      <th>url</th>\n",
       "      <th>phish_detail_url</th>\n",
       "      <th>submission_time</th>\n",
       "      <th>verified</th>\n",
       "      <th>verification_time</th>\n",
       "      <th>online</th>\n",
       "      <th>target</th>\n",
       "    </tr>\n",
       "  </thead>\n",
       "  <tbody>\n",
       "    <tr>\n",
       "      <th>0</th>\n",
       "      <td>7380286</td>\n",
       "      <td>https://gastroutes.com/chss.imc/pnnc.php</td>\n",
       "      <td>http://www.phishtank.com/phish_detail.php?phis...</td>\n",
       "      <td>2021-12-10T06:01:05+00:00</td>\n",
       "      <td>yes</td>\n",
       "      <td>2021-12-10T06:15:42+00:00</td>\n",
       "      <td>yes</td>\n",
       "      <td>ABSA Bank</td>\n",
       "    </tr>\n",
       "    <tr>\n",
       "      <th>1</th>\n",
       "      <td>7380283</td>\n",
       "      <td>http://www.mygotopoolguy.com/chss.imc/pnnc.php</td>\n",
       "      <td>http://www.phishtank.com/phish_detail.php?phis...</td>\n",
       "      <td>2021-12-10T06:00:58+00:00</td>\n",
       "      <td>yes</td>\n",
       "      <td>2021-12-10T06:15:42+00:00</td>\n",
       "      <td>yes</td>\n",
       "      <td>ABSA Bank</td>\n",
       "    </tr>\n",
       "    <tr>\n",
       "      <th>2</th>\n",
       "      <td>7380251</td>\n",
       "      <td>https://www.correios-cttenviar-encomenda.com/P...</td>\n",
       "      <td>http://www.phishtank.com/phish_detail.php?phis...</td>\n",
       "      <td>2021-12-10T03:33:15+00:00</td>\n",
       "      <td>yes</td>\n",
       "      <td>2021-12-10T04:41:02+00:00</td>\n",
       "      <td>yes</td>\n",
       "      <td>Other</td>\n",
       "    </tr>\n",
       "    <tr>\n",
       "      <th>3</th>\n",
       "      <td>7380245</td>\n",
       "      <td>https://jp-mesaori-ojpbk.com/</td>\n",
       "      <td>http://www.phishtank.com/phish_detail.php?phis...</td>\n",
       "      <td>2021-12-10T02:55:27+00:00</td>\n",
       "      <td>yes</td>\n",
       "      <td>2021-12-10T04:04:53+00:00</td>\n",
       "      <td>yes</td>\n",
       "      <td>Other</td>\n",
       "    </tr>\n",
       "    <tr>\n",
       "      <th>4</th>\n",
       "      <td>7380233</td>\n",
       "      <td>https://www.jeifjsjejw.xyz/</td>\n",
       "      <td>http://www.phishtank.com/phish_detail.php?phis...</td>\n",
       "      <td>2021-12-10T01:46:07+00:00</td>\n",
       "      <td>yes</td>\n",
       "      <td>2021-12-10T01:52:02+00:00</td>\n",
       "      <td>yes</td>\n",
       "      <td>Other</td>\n",
       "    </tr>\n",
       "  </tbody>\n",
       "</table>\n",
       "</div>"
      ],
      "text/plain": [
       "   phish_id                                                url  \\\n",
       "0   7380286           https://gastroutes.com/chss.imc/pnnc.php   \n",
       "1   7380283     http://www.mygotopoolguy.com/chss.imc/pnnc.php   \n",
       "2   7380251  https://www.correios-cttenviar-encomenda.com/P...   \n",
       "3   7380245                      https://jp-mesaori-ojpbk.com/   \n",
       "4   7380233                        https://www.jeifjsjejw.xyz/   \n",
       "\n",
       "                                    phish_detail_url  \\\n",
       "0  http://www.phishtank.com/phish_detail.php?phis...   \n",
       "1  http://www.phishtank.com/phish_detail.php?phis...   \n",
       "2  http://www.phishtank.com/phish_detail.php?phis...   \n",
       "3  http://www.phishtank.com/phish_detail.php?phis...   \n",
       "4  http://www.phishtank.com/phish_detail.php?phis...   \n",
       "\n",
       "             submission_time verified          verification_time online  \\\n",
       "0  2021-12-10T06:01:05+00:00      yes  2021-12-10T06:15:42+00:00    yes   \n",
       "1  2021-12-10T06:00:58+00:00      yes  2021-12-10T06:15:42+00:00    yes   \n",
       "2  2021-12-10T03:33:15+00:00      yes  2021-12-10T04:41:02+00:00    yes   \n",
       "3  2021-12-10T02:55:27+00:00      yes  2021-12-10T04:04:53+00:00    yes   \n",
       "4  2021-12-10T01:46:07+00:00      yes  2021-12-10T01:52:02+00:00    yes   \n",
       "\n",
       "      target  \n",
       "0  ABSA Bank  \n",
       "1  ABSA Bank  \n",
       "2      Other  \n",
       "3      Other  \n",
       "4      Other  "
      ]
     },
     "execution_count": 4,
     "metadata": {},
     "output_type": "execute_result"
    }
   ],
   "source": [
    "df_phishing.head()"
   ]
  },
  {
   "cell_type": "code",
   "execution_count": 5,
   "id": "490d3e16",
   "metadata": {},
   "outputs": [
    {
     "data": {
      "text/plain": [
       "phish_id             0\n",
       "url                  0\n",
       "phish_detail_url     0\n",
       "submission_time      0\n",
       "verified             0\n",
       "verification_time    0\n",
       "online               0\n",
       "target               0\n",
       "dtype: int64"
      ]
     },
     "execution_count": 5,
     "metadata": {},
     "output_type": "execute_result"
    }
   ],
   "source": [
    "df_phishing.isnull().sum()"
   ]
  },
  {
   "cell_type": "code",
   "execution_count": 6,
   "id": "8b33b551",
   "metadata": {},
   "outputs": [
    {
     "data": {
      "text/plain": [
       "(11487, 8)"
      ]
     },
     "execution_count": 6,
     "metadata": {},
     "output_type": "execute_result"
    }
   ],
   "source": [
    "df_phishing.shape"
   ]
  },
  {
   "cell_type": "markdown",
   "id": "55387218",
   "metadata": {},
   "source": [
    "We would pick up 5000 samples from the above dataframe randomly."
   ]
  },
  {
   "cell_type": "code",
   "execution_count": 7,
   "id": "6d5e518e",
   "metadata": {},
   "outputs": [
    {
     "data": {
      "text/html": [
       "<div>\n",
       "<style scoped>\n",
       "    .dataframe tbody tr th:only-of-type {\n",
       "        vertical-align: middle;\n",
       "    }\n",
       "\n",
       "    .dataframe tbody tr th {\n",
       "        vertical-align: top;\n",
       "    }\n",
       "\n",
       "    .dataframe thead th {\n",
       "        text-align: right;\n",
       "    }\n",
       "</style>\n",
       "<table border=\"1\" class=\"dataframe\">\n",
       "  <thead>\n",
       "    <tr style=\"text-align: right;\">\n",
       "      <th></th>\n",
       "      <th>phish_id</th>\n",
       "      <th>url</th>\n",
       "      <th>phish_detail_url</th>\n",
       "      <th>submission_time</th>\n",
       "      <th>verified</th>\n",
       "      <th>verification_time</th>\n",
       "      <th>online</th>\n",
       "      <th>target</th>\n",
       "    </tr>\n",
       "  </thead>\n",
       "  <tbody>\n",
       "    <tr>\n",
       "      <th>0</th>\n",
       "      <td>7236797</td>\n",
       "      <td>http://meriprocaseinbanfro.42web.io/?i=1</td>\n",
       "      <td>http://www.phishtank.com/phish_detail.php?phis...</td>\n",
       "      <td>2021-07-21T02:13:31+00:00</td>\n",
       "      <td>yes</td>\n",
       "      <td>2021-07-22T11:07:20+00:00</td>\n",
       "      <td>yes</td>\n",
       "      <td>Other</td>\n",
       "    </tr>\n",
       "    <tr>\n",
       "      <th>1</th>\n",
       "      <td>6557140</td>\n",
       "      <td>http://betasus111.blogspot.com</td>\n",
       "      <td>http://www.phishtank.com/phish_detail.php?phis...</td>\n",
       "      <td>2020-05-09T23:57:08+00:00</td>\n",
       "      <td>yes</td>\n",
       "      <td>2020-05-10T00:11:42+00:00</td>\n",
       "      <td>yes</td>\n",
       "      <td>Other</td>\n",
       "    </tr>\n",
       "    <tr>\n",
       "      <th>2</th>\n",
       "      <td>7362306</td>\n",
       "      <td>http://roygijvhluozwnflsypmewrstt-dot-gl443933...</td>\n",
       "      <td>http://www.phishtank.com/phish_detail.php?phis...</td>\n",
       "      <td>2021-11-24T15:01:10+00:00</td>\n",
       "      <td>yes</td>\n",
       "      <td>2021-11-24T15:11:17+00:00</td>\n",
       "      <td>yes</td>\n",
       "      <td>Other</td>\n",
       "    </tr>\n",
       "    <tr>\n",
       "      <th>3</th>\n",
       "      <td>7273596</td>\n",
       "      <td>https://appurl.io/k8Hy2cVo8X</td>\n",
       "      <td>http://www.phishtank.com/phish_detail.php?phis...</td>\n",
       "      <td>2021-08-25T17:28:13+00:00</td>\n",
       "      <td>yes</td>\n",
       "      <td>2021-08-25T17:33:38+00:00</td>\n",
       "      <td>yes</td>\n",
       "      <td>Other</td>\n",
       "    </tr>\n",
       "    <tr>\n",
       "      <th>4</th>\n",
       "      <td>7161334</td>\n",
       "      <td>https://richardbashara.com/secure/login/paypal</td>\n",
       "      <td>http://www.phishtank.com/phish_detail.php?phis...</td>\n",
       "      <td>2021-06-07T15:02:10+00:00</td>\n",
       "      <td>yes</td>\n",
       "      <td>2021-06-07T15:05:14+00:00</td>\n",
       "      <td>yes</td>\n",
       "      <td>Other</td>\n",
       "    </tr>\n",
       "  </tbody>\n",
       "</table>\n",
       "</div>"
      ],
      "text/plain": [
       "   phish_id                                                url  \\\n",
       "0   7236797           http://meriprocaseinbanfro.42web.io/?i=1   \n",
       "1   6557140                     http://betasus111.blogspot.com   \n",
       "2   7362306  http://roygijvhluozwnflsypmewrstt-dot-gl443933...   \n",
       "3   7273596                       https://appurl.io/k8Hy2cVo8X   \n",
       "4   7161334     https://richardbashara.com/secure/login/paypal   \n",
       "\n",
       "                                    phish_detail_url  \\\n",
       "0  http://www.phishtank.com/phish_detail.php?phis...   \n",
       "1  http://www.phishtank.com/phish_detail.php?phis...   \n",
       "2  http://www.phishtank.com/phish_detail.php?phis...   \n",
       "3  http://www.phishtank.com/phish_detail.php?phis...   \n",
       "4  http://www.phishtank.com/phish_detail.php?phis...   \n",
       "\n",
       "             submission_time verified          verification_time online target  \n",
       "0  2021-07-21T02:13:31+00:00      yes  2021-07-22T11:07:20+00:00    yes  Other  \n",
       "1  2020-05-09T23:57:08+00:00      yes  2020-05-10T00:11:42+00:00    yes  Other  \n",
       "2  2021-11-24T15:01:10+00:00      yes  2021-11-24T15:11:17+00:00    yes  Other  \n",
       "3  2021-08-25T17:28:13+00:00      yes  2021-08-25T17:33:38+00:00    yes  Other  \n",
       "4  2021-06-07T15:02:10+00:00      yes  2021-06-07T15:05:14+00:00    yes  Other  "
      ]
     },
     "execution_count": 7,
     "metadata": {},
     "output_type": "execute_result"
    }
   ],
   "source": [
    "#Collecting 5,000 Phishing URLs randomly\n",
    "\n",
    "df_phishing_final = df_phishing.sample(n = 5000, random_state = 12).copy()\n",
    "df_phishing_final = df_phishing_final.reset_index(drop=True)\n",
    "df_phishing_final.head()"
   ]
  },
  {
   "cell_type": "code",
   "execution_count": 8,
   "id": "a9c46bef",
   "metadata": {},
   "outputs": [
    {
     "data": {
      "text/plain": [
       "(5000, 8)"
      ]
     },
     "execution_count": 8,
     "metadata": {},
     "output_type": "execute_result"
    }
   ],
   "source": [
    "df_phishing_final.shape"
   ]
  },
  {
   "cell_type": "markdown",
   "id": "ada0fb81",
   "metadata": {},
   "source": [
    "## 1.2. Legitimate URLs:"
   ]
  },
  {
   "cell_type": "code",
   "execution_count": 9,
   "id": "ab8c8a69",
   "metadata": {},
   "outputs": [],
   "source": [
    "path = \"Dataset//Benign_list_big_final.csv\"\n",
    "df_legitimate = pd.read_csv(path)\n",
    "df_legitimate.columns = [\"URLs\"]"
   ]
  },
  {
   "cell_type": "code",
   "execution_count": 10,
   "id": "21fc42c2",
   "metadata": {},
   "outputs": [
    {
     "data": {
      "text/html": [
       "<div>\n",
       "<style scoped>\n",
       "    .dataframe tbody tr th:only-of-type {\n",
       "        vertical-align: middle;\n",
       "    }\n",
       "\n",
       "    .dataframe tbody tr th {\n",
       "        vertical-align: top;\n",
       "    }\n",
       "\n",
       "    .dataframe thead th {\n",
       "        text-align: right;\n",
       "    }\n",
       "</style>\n",
       "<table border=\"1\" class=\"dataframe\">\n",
       "  <thead>\n",
       "    <tr style=\"text-align: right;\">\n",
       "      <th></th>\n",
       "      <th>URLs</th>\n",
       "    </tr>\n",
       "  </thead>\n",
       "  <tbody>\n",
       "    <tr>\n",
       "      <th>0</th>\n",
       "      <td>http://1337x.to/torrent/1110018/Blackhat-2015-...</td>\n",
       "    </tr>\n",
       "    <tr>\n",
       "      <th>1</th>\n",
       "      <td>http://1337x.to/torrent/1122940/Blackhat-2015-...</td>\n",
       "    </tr>\n",
       "    <tr>\n",
       "      <th>2</th>\n",
       "      <td>http://1337x.to/torrent/1124395/Fast-and-Furio...</td>\n",
       "    </tr>\n",
       "    <tr>\n",
       "      <th>3</th>\n",
       "      <td>http://1337x.to/torrent/1145504/Avengers-Age-o...</td>\n",
       "    </tr>\n",
       "    <tr>\n",
       "      <th>4</th>\n",
       "      <td>http://1337x.to/torrent/1160078/Avengers-age-o...</td>\n",
       "    </tr>\n",
       "  </tbody>\n",
       "</table>\n",
       "</div>"
      ],
      "text/plain": [
       "                                                URLs\n",
       "0  http://1337x.to/torrent/1110018/Blackhat-2015-...\n",
       "1  http://1337x.to/torrent/1122940/Blackhat-2015-...\n",
       "2  http://1337x.to/torrent/1124395/Fast-and-Furio...\n",
       "3  http://1337x.to/torrent/1145504/Avengers-Age-o...\n",
       "4  http://1337x.to/torrent/1160078/Avengers-age-o..."
      ]
     },
     "execution_count": 10,
     "metadata": {},
     "output_type": "execute_result"
    }
   ],
   "source": [
    "df_legitimate.head()"
   ]
  },
  {
   "cell_type": "code",
   "execution_count": 11,
   "id": "c82b600c",
   "metadata": {},
   "outputs": [
    {
     "data": {
      "text/html": [
       "<div>\n",
       "<style scoped>\n",
       "    .dataframe tbody tr th:only-of-type {\n",
       "        vertical-align: middle;\n",
       "    }\n",
       "\n",
       "    .dataframe tbody tr th {\n",
       "        vertical-align: top;\n",
       "    }\n",
       "\n",
       "    .dataframe thead th {\n",
       "        text-align: right;\n",
       "    }\n",
       "</style>\n",
       "<table border=\"1\" class=\"dataframe\">\n",
       "  <thead>\n",
       "    <tr style=\"text-align: right;\">\n",
       "      <th></th>\n",
       "      <th>URLs</th>\n",
       "    </tr>\n",
       "  </thead>\n",
       "  <tbody>\n",
       "    <tr>\n",
       "      <th>0</th>\n",
       "      <td>http://graphicriver.net/search?date=this-month...</td>\n",
       "    </tr>\n",
       "    <tr>\n",
       "      <th>1</th>\n",
       "      <td>http://ecnavi.jp/redirect/?url=http://www.cros...</td>\n",
       "    </tr>\n",
       "    <tr>\n",
       "      <th>2</th>\n",
       "      <td>https://hubpages.com/signin?explain=follow+Hub...</td>\n",
       "    </tr>\n",
       "    <tr>\n",
       "      <th>3</th>\n",
       "      <td>http://extratorrent.cc/torrent/4190536/AOMEI+B...</td>\n",
       "    </tr>\n",
       "    <tr>\n",
       "      <th>4</th>\n",
       "      <td>http://icicibank.com/Personal-Banking/offers/o...</td>\n",
       "    </tr>\n",
       "  </tbody>\n",
       "</table>\n",
       "</div>"
      ],
      "text/plain": [
       "                                                URLs\n",
       "0  http://graphicriver.net/search?date=this-month...\n",
       "1  http://ecnavi.jp/redirect/?url=http://www.cros...\n",
       "2  https://hubpages.com/signin?explain=follow+Hub...\n",
       "3  http://extratorrent.cc/torrent/4190536/AOMEI+B...\n",
       "4  http://icicibank.com/Personal-Banking/offers/o..."
      ]
     },
     "execution_count": 11,
     "metadata": {},
     "output_type": "execute_result"
    }
   ],
   "source": [
    "#Collecting 5,000 Legitimate URLs randomly\n",
    "\n",
    "df_legitimate_final = df_legitimate.sample(n = 5000, random_state = 12).copy()\n",
    "df_legitimate_final = df_legitimate_final.reset_index(drop=True)\n",
    "df_legitimate_final.head()"
   ]
  },
  {
   "cell_type": "code",
   "execution_count": 12,
   "id": "8662f999",
   "metadata": {},
   "outputs": [
    {
     "data": {
      "text/plain": [
       "(5000, 1)"
      ]
     },
     "execution_count": 12,
     "metadata": {},
     "output_type": "execute_result"
    }
   ],
   "source": [
    "df_legitimate_final.shape"
   ]
  },
  {
   "cell_type": "markdown",
   "id": "3366c089",
   "metadata": {},
   "source": [
    "# 2. Feature Extraction:"
   ]
  },
  {
   "cell_type": "markdown",
   "id": "260a0429",
   "metadata": {},
   "source": [
    "In this step, features are extracted from the Legitimate URLs dataset.\n",
    "\n",
    "The extracted features are categorized into;\n",
    "\n",
    "1. Address Bar based Features\n",
    "2. Domain based Features\n",
    "3. HTML & Javascript based Features"
   ]
  },
  {
   "cell_type": "markdown",
   "id": "b9c846d4",
   "metadata": {},
   "source": [
    "## 2.1. Address Bar based Features:"
   ]
  },
  {
   "cell_type": "markdown",
   "id": "6ea48d23",
   "metadata": {},
   "source": [
    "Following features are considered as address basr based features;\n",
    "\n",
    "- Domain of URL\n",
    "- IP Address in URL\n",
    "- \"@\" Symbol in URL\n",
    "- Length of URL\n",
    "- Depth of URL\n",
    "- Redirection \"//\" in URL\n",
    "- \"http/https\" in Domain name\n",
    "- Using URL Shortening Services “TinyURL”\n",
    "- Prefix or Suffix \"-\" in Domain"
   ]
  },
  {
   "cell_type": "markdown",
   "id": "2d1ed398",
   "metadata": {},
   "source": [
    "### 2.1.1. Domain of the URL:"
   ]
  },
  {
   "cell_type": "code",
   "execution_count": 13,
   "id": "29419b25",
   "metadata": {},
   "outputs": [],
   "source": [
    "# Extracting the domain of the URL\n",
    "\n",
    "def getDomain(url):\n",
    "    domain = urlparse(url).netloc\n",
    "    if re.match(r\"^www.\", domain):\n",
    "        domain = domain.replace(\"www.\", \"\")\n",
    "    return domain"
   ]
  },
  {
   "cell_type": "markdown",
   "id": "1821bdc6",
   "metadata": {},
   "source": [
    "### 2.1.2. IP Address in the URL:"
   ]
  },
  {
   "cell_type": "markdown",
   "id": "af1ddcb4",
   "metadata": {},
   "source": [
    "We would check for the presence of IP address in the URL, because URLs may have IP address instead of domain name. If an IP address is used as an alternative of the domain name in the URL this may be one of the feature of phishig website's URL.\n",
    "\n",
    "Hence, If the domain part of the URL has IP address, the value assigned to this feature is 1 (phishing) or else 0 (legitimate)."
   ]
  },
  {
   "cell_type": "code",
   "execution_count": 14,
   "id": "64d76219",
   "metadata": {},
   "outputs": [],
   "source": [
    "# Returns bool(True/False), whether the URL contains IP Address or not\n",
    "\n",
    "def checkIP(url):\n",
    "    try:\n",
    "        ipaddress.ip_address(url)\n",
    "        return 1\n",
    "    except:\n",
    "        return 0"
   ]
  },
  {
   "cell_type": "markdown",
   "id": "275f7fbf",
   "metadata": {},
   "source": [
    "### 2.1.3. \"@\" Symbol in the URL:"
   ]
  },
  {
   "cell_type": "markdown",
   "id": "245ee505",
   "metadata": {},
   "source": [
    "We would check for the presence of \"@\" symbol in the URL, because URLs containing \"@\" symbol leads the browser to ignore everything preceding the “@” symbol and the real address often follows the “@” symbol.\n",
    "\n",
    "Hence, If the \"@\" symbol is present in the URL, the value assigned to this feature is 1 (phishing) or else 0 (legitimate)."
   ]
  },
  {
   "cell_type": "code",
   "execution_count": 15,
   "id": "ec574d7d",
   "metadata": {},
   "outputs": [],
   "source": [
    "def checkAtSymbol(url):\n",
    "    if (\"@\" in url):\n",
    "        return 1\n",
    "    else:\n",
    "        return 0"
   ]
  },
  {
   "cell_type": "markdown",
   "id": "944b5ee8",
   "metadata": {},
   "source": [
    "### 2.1.4. Length of the URL:"
   ]
  },
  {
   "cell_type": "markdown",
   "id": "6504a0b2",
   "metadata": {},
   "source": [
    "Here we would compute the length of the URL. Phishers can use long URL to hide the doubtful part in the address bar. Therefore, if the length of the URL is greater than or equal 54 characters then the URL is classified as phishing otherwise legitimate.\n",
    "\n",
    "Hence, If the length of URL >= 54, the value assigned to this feature is 1 (phishing) or else 0 (legitimate)."
   ]
  },
  {
   "cell_type": "code",
   "execution_count": 16,
   "id": "5123b564",
   "metadata": {},
   "outputs": [],
   "source": [
    "def lengthUrl(url):\n",
    "    if(len(url) >= 54):\n",
    "        return 1\n",
    "    else:\n",
    "        return 0"
   ]
  },
  {
   "cell_type": "markdown",
   "id": "5bccec24",
   "metadata": {},
   "source": [
    "### 2.1.5. Depth of the URL:"
   ]
  },
  {
   "cell_type": "markdown",
   "id": "76eb6f85",
   "metadata": {},
   "source": [
    "Here, we would compute the depth of the URL. This feature calculates the number of sub pages in the given url based on the '/'."
   ]
  },
  {
   "cell_type": "code",
   "execution_count": 17,
   "id": "cd7873af",
   "metadata": {},
   "outputs": [],
   "source": [
    "def depthUrl(url):\n",
    "    depth = 0\n",
    "    urlSplit = urlparse(url).path.split('/')\n",
    "    for i in range(len(urlSplit)):\n",
    "        if(len(urlSplit[i]) != 0):\n",
    "            depth += 1\n",
    "    return depth"
   ]
  },
  {
   "cell_type": "markdown",
   "id": "dff7aea1",
   "metadata": {},
   "source": [
    "### 2.1.6. Redirection \"//\" in the URL:"
   ]
  },
  {
   "cell_type": "markdown",
   "id": "d70842d3",
   "metadata": {},
   "source": [
    "We would check the presence of \"//\" in the URL. The existence of “//” within the URL path means that the user will be redirected to another website. We find that if the URL starts with “HTTP”, that means the “//” should appear in the 5th position. However, if the URL employs “HTTPS” then the “//” should appear in 6th position.\n",
    "\n",
    "If the \"//\" is anywhere else in the URL, the value assigned to this feature is 1 (phishing) or else 0 (legitimate)."
   ]
  },
  {
   "cell_type": "code",
   "execution_count": 18,
   "id": "48867f27",
   "metadata": {},
   "outputs": [],
   "source": [
    "def checkRedirUrl(url):\n",
    "    pos = url.rfind(\"//\")\n",
    "    if(pos > 6):\n",
    "        return 1\n",
    "    else:\n",
    "        return 0"
   ]
  },
  {
   "cell_type": "markdown",
   "id": "eb150b5d",
   "metadata": {},
   "source": [
    "### 2.1.7. \"http/https\" in the Domain name:"
   ]
  },
  {
   "cell_type": "markdown",
   "id": "4f722293",
   "metadata": {},
   "source": [
    "We would check for the presence of \"http/https\" in the domain part of the URL. The phishers may add the “HTTPS” token to the domain part of a URL in order to trick users.\n",
    "\n",
    "Hence, If the URL has \"http/https\" in the domain part, the value assigned to this feature is 1 (phishing) or else 0 (legitimate)."
   ]
  },
  {
   "cell_type": "code",
   "execution_count": 19,
   "id": "87c96bbe",
   "metadata": {},
   "outputs": [],
   "source": [
    "def checkHttpDomain(url):\n",
    "    domain = urlparse(url).netloc\n",
    "    if(\"http\" in domain or \"https\" in domain):\n",
    "        return 1\n",
    "    else: \n",
    "        return 0"
   ]
  },
  {
   "cell_type": "markdown",
   "id": "8fdd2c32",
   "metadata": {},
   "source": [
    "### 2.1.8. Using URL Shortening Services “TinyURL”:"
   ]
  },
  {
   "cell_type": "markdown",
   "id": "db61527d",
   "metadata": {},
   "source": [
    "URL shortening is a method on the “World Wide Web” in which a URL may be made smaller in length and still lead to the required webpage. This is accomplished by means of an “HTTP Redirect” on a domain name that is short, which links to the webpage that has a long URL.\n",
    "\n",
    "Hence, If the URL is using Shortening Services, the value assigned to this feature is 1 (phishing) or else 0 (legitimate)."
   ]
  },
  {
   "cell_type": "code",
   "execution_count": 20,
   "id": "07a70947",
   "metadata": {},
   "outputs": [],
   "source": [
    "#listing atll the shortening services\n",
    "all_shortening_services = r\"bit\\.ly|goo\\.gl|shorte\\.st|go2l\\.ink|x\\.co|ow\\.ly|t\\.co|tinyurl|tr\\.im|is\\.gd|cli\\.gs|\" \\\n",
    "                      r\"yfrog\\.com|migre\\.me|ff\\.im|tiny\\.cc|url4\\.eu|twit\\.ac|su\\.pr|twurl\\.nl|snipurl\\.com|\" \\\n",
    "                      r\"short\\.to|BudURL\\.com|ping\\.fm|post\\.ly|Just\\.as|bkite\\.com|snipr\\.com|fic\\.kr|loopt\\.us|\" \\\n",
    "                      r\"doiop\\.com|short\\.ie|kl\\.am|wp\\.me|rubyurl\\.com|om\\.ly|to\\.ly|bit\\.do|t\\.co|lnkd\\.in|db\\.tt|\" \\\n",
    "                      r\"qr\\.ae|adf\\.ly|goo\\.gl|bitly\\.com|cur\\.lv|tinyurl\\.com|ow\\.ly|bit\\.ly|ity\\.im|q\\.gs|is\\.gd|\" \\\n",
    "                      r\"po\\.st|bc\\.vc|twitthis\\.com|u\\.to|j\\.mp|buzurl\\.com|cutt\\.us|u\\.bb|yourls\\.org|x\\.co|\" \\\n",
    "                      r\"prettylinkpro\\.com|scrnch\\.me|filoops\\.info|vzturl\\.com|qr\\.net|1url\\.com|tweez\\.me|v\\.gd|\" \\\n",
    "                      r\"tr\\.im|link\\.zip\\.net\""
   ]
  },
  {
   "cell_type": "code",
   "execution_count": 21,
   "id": "5c611fe7",
   "metadata": {},
   "outputs": [],
   "source": [
    "# Checking for Shortening Services present in the URL.\n",
    "\n",
    "def checkShortUrl(url):\n",
    "    if re.search(all_shortening_services, url):\n",
    "        return 1\n",
    "    else:\n",
    "        return 0"
   ]
  },
  {
   "cell_type": "markdown",
   "id": "799d10fa",
   "metadata": {},
   "source": [
    "### 2.1.9. Prefix or Suffix \"-\" in the Domain:"
   ]
  },
  {
   "cell_type": "markdown",
   "id": "42e9fe3f",
   "metadata": {},
   "source": [
    "We would check the presence of '-' in the domain part of URL. The dash symbol is rarely used in legitimate URLs. Phishers tend to add prefixes or suffixes separated by (-) to the domain name so that users feel that they are dealing with a legitimate webpage.\n",
    "\n",
    "Hence, If the URL has '-' symbol in the domain part of the URL, the value assigned to this feature is 1 (phishing) or else 0 (legitimate)."
   ]
  },
  {
   "cell_type": "code",
   "execution_count": 22,
   "id": "6aa06b70",
   "metadata": {},
   "outputs": [],
   "source": [
    "def checkPrefSuff(url):\n",
    "    if \"-\" in urlparse(url).netloc:\n",
    "        return 1\n",
    "    else:\n",
    "        return 0"
   ]
  },
  {
   "cell_type": "markdown",
   "id": "a55a80fb",
   "metadata": {},
   "source": [
    "## 2.2. Domain based Features:"
   ]
  },
  {
   "cell_type": "markdown",
   "id": "f48e841c",
   "metadata": {},
   "source": [
    "The extracted features are categorized into;\n",
    "\n",
    "1. DNS Record\n",
    "2. Website Traffic\n",
    "3. Age of Domain\n",
    "3. End Period of Domain"
   ]
  },
  {
   "cell_type": "code",
   "execution_count": 23,
   "id": "21ddcb2b",
   "metadata": {},
   "outputs": [
    {
     "name": "stdout",
     "output_type": "stream",
     "text": [
      "Requirement already satisfied: python-whois in c:\\users\\ovaizali\\anaconda3\\lib\\site-packages (0.7.3)\n",
      "Requirement already satisfied: future in c:\\users\\ovaizali\\anaconda3\\lib\\site-packages (from python-whois) (0.18.2)\n"
     ]
    }
   ],
   "source": [
    "!pip install python-whois"
   ]
  },
  {
   "cell_type": "code",
   "execution_count": 24,
   "id": "a8566c20",
   "metadata": {},
   "outputs": [],
   "source": [
    "import whois"
   ]
  },
  {
   "cell_type": "markdown",
   "id": "e87b9714",
   "metadata": {},
   "source": [
    "### 2.2.1. DNS Record:"
   ]
  },
  {
   "cell_type": "markdown",
   "id": "cb96cf9a",
   "metadata": {},
   "source": [
    "For phishing websites, either the claimed identity is not recognized by the WHOIS database or no records founded for the hostname. If the DNS record is empty or not found then, the value assigned to this feature is 1 (phishing) or else 0 (legitimate)."
   ]
  },
  {
   "cell_type": "markdown",
   "id": "b4e19e30",
   "metadata": {},
   "source": [
    "### 2.2.2. Website Traffic:"
   ]
  },
  {
   "cell_type": "markdown",
   "id": "7fb88364",
   "metadata": {},
   "source": [
    "This feature measures the popularity of the website by determining the number of visitors and the number of pages they visit. However, since phishing websites live for a short period of time, they may not be recognized by the Alexa database (Alexa the Web Information Company., 1996). By reviewing our dataset, we find that in worst scenarios, legitimate websites ranked among the top 100,000. Furthermore, if the domain has no traffic or is not recognized by the Alexa database, it is classified as “Phishing”.\n",
    "\n",
    "If the rank of the domain < 100000, the vlaue of this feature is 1 (phishing) else 0 (legitimate)."
   ]
  },
  {
   "cell_type": "code",
   "execution_count": 25,
   "id": "e6c7abfc",
   "metadata": {},
   "outputs": [],
   "source": [
    "def checkWebTraffic(url):\n",
    "  try:\n",
    "    url = urllib.parse.quote(url)\n",
    "    rank = BeautifulSoup(urllib.request.urlopen(\"http://data.alexa.com/data?cli=10&dat=s&url=\" + url).read(), \"xml\").find(\n",
    "        \"REACH\")['RANK']\n",
    "    rank = int(rank)\n",
    "  except TypeError:\n",
    "        return 1\n",
    "  if rank < 100000:\n",
    "    return 1\n",
    "  else:\n",
    "    return 0"
   ]
  },
  {
   "cell_type": "markdown",
   "id": "174576f2",
   "metadata": {},
   "source": [
    "### 2.2.3. Age of Domain:"
   ]
  },
  {
   "cell_type": "markdown",
   "id": "25a2f799",
   "metadata": {},
   "source": [
    "This feature can be extracted from WHOIS database. Most phishing websites live for a short period of time. The minimum age of the legitimate domain is considered to be 12 months for this project. Age here is nothing but different between creation and expiration time.\n",
    "\n",
    "If age of domain > 12 months, the vlaue of this feature is 1 (phishing) else 0 (legitimate)."
   ]
  },
  {
   "cell_type": "code",
   "execution_count": 26,
   "id": "ddfec3e4",
   "metadata": {},
   "outputs": [],
   "source": [
    "def checkDomainAge(domain_name):\n",
    "  creation_date = domain_name.creation_date\n",
    "  expiration_date = domain_name.expiration_date\n",
    "  if (isinstance(creation_date,str) or isinstance(expiration_date,str)):\n",
    "    try:\n",
    "      creation_date = datetime.strptime(creation_date,'%Y-%m-%d')\n",
    "      expiration_date = datetime.strptime(expiration_date,\"%Y-%m-%d\")\n",
    "    except:\n",
    "      return 1\n",
    "  if ((expiration_date is None) or (creation_date is None)):\n",
    "      return 1\n",
    "  elif ((type(expiration_date) is list) or (type(creation_date) is list)):\n",
    "      return 1\n",
    "  else:\n",
    "    ageofdomain = abs((expiration_date - creation_date).days)\n",
    "    if ((ageofdomain/30) < 6):\n",
    "      return 1\n",
    "    else:\n",
    "      return 0"
   ]
  },
  {
   "cell_type": "markdown",
   "id": "ef698980",
   "metadata": {},
   "source": [
    "### 2.2.4. End Period of Domain:"
   ]
  },
  {
   "cell_type": "markdown",
   "id": "b1badc52",
   "metadata": {},
   "source": [
    "This feature can be extracted from WHOIS database. For this feature, the remaining domain time is calculated by finding the different between expiration time & current time. The end period considered for the legitimate domain is 6 months or less for this project.\n",
    "\n",
    "If end period of domain > 6 months, the vlaue of this feature is 1 (phishing) else 0 (legitimate)."
   ]
  },
  {
   "cell_type": "code",
   "execution_count": 27,
   "id": "8d5cd9df",
   "metadata": {},
   "outputs": [],
   "source": [
    "def checkDomainEnd(domain_name):\n",
    "  expiration_date = domain_name.expiration_date\n",
    "  if isinstance(expiration_date,str):\n",
    "    try:\n",
    "      expiration_date = datetime.strptime(expiration_date,\"%Y-%m-%d\")\n",
    "    except:\n",
    "      return 1\n",
    "  if (expiration_date is None):\n",
    "      return 1\n",
    "  elif (type(expiration_date) is list):\n",
    "      return 1\n",
    "  else:\n",
    "    today = datetime.now()\n",
    "    end = abs((expiration_date - today).days)\n",
    "    if ((end/30) < 6):\n",
    "      return 0\n",
    "    else:\n",
    "      return 1"
   ]
  },
  {
   "cell_type": "markdown",
   "id": "437a33cf",
   "metadata": {},
   "source": [
    "## 2.3. HTML and JavaScript based Features:"
   ]
  },
  {
   "cell_type": "markdown",
   "id": "5a9da028",
   "metadata": {},
   "source": [
    "The extracted features are categorized into;\n",
    "- IFrame Redirection\n",
    "- Status Bar Customization\n",
    "- Disabling Right Click\n",
    "- Website Forwarding"
   ]
  },
  {
   "cell_type": "markdown",
   "id": "420c973e",
   "metadata": {},
   "source": [
    "### 2.3.1. IFrame Redirection:"
   ]
  },
  {
   "cell_type": "markdown",
   "id": "d8889e6b",
   "metadata": {},
   "source": [
    "IFrame is an HTML tag used to display an additional webpage into one that is currently shown. Phishers can make use of the “iframe” tag and make it invisible i.e. without frame borders. In this regard, phishers make use of the “frameBorder” attribute which causes the browser to render a visual delineation.\n",
    "\n",
    "If the iframe is empty or repsonse is not found then, the value assigned to this feature is 1 (phishing) or else 0 (legitimate)."
   ]
  },
  {
   "cell_type": "code",
   "execution_count": 28,
   "id": "b2f62b78",
   "metadata": {},
   "outputs": [],
   "source": [
    "def checkIframe(response):\n",
    "  if response == \"\":\n",
    "      return 1\n",
    "  else:\n",
    "      if re.findall(r\"[<iframe>|<frameBorder>]\", response.text):\n",
    "          return 0\n",
    "      else:\n",
    "          return 1"
   ]
  },
  {
   "cell_type": "markdown",
   "id": "3677a49a",
   "metadata": {},
   "source": [
    "### 2.3.2. Status Bar Customization:"
   ]
  },
  {
   "cell_type": "markdown",
   "id": "521a672a",
   "metadata": {},
   "source": [
    "Phishers may use JavaScript to show a fake URL in the status bar to users. To extract this feature, we must dig-out the webpage source code, particularly the “onMouseOver” event, and check if it makes any changes on the status bar\n",
    "\n",
    "If the response is empty or onmouseover is found then, the value assigned to this feature is 1 (phishing) or else 0 (legitimate)."
   ]
  },
  {
   "cell_type": "code",
   "execution_count": 29,
   "id": "19f0132d",
   "metadata": {},
   "outputs": [],
   "source": [
    "def checkMouseOver(response): \n",
    "  if response == \"\" :\n",
    "    return 1\n",
    "  else:\n",
    "    if re.findall(\"<script>.+onmouseover.+</script>\", response.text):\n",
    "      return 1\n",
    "    else:\n",
    "      return 0"
   ]
  },
  {
   "cell_type": "markdown",
   "id": "a48a6357",
   "metadata": {},
   "source": [
    "### 2.3.3. Disabling Right Click:"
   ]
  },
  {
   "cell_type": "markdown",
   "id": "6aac5e45",
   "metadata": {},
   "source": [
    "Phishers use JavaScript to disable the right-click function, so that users cannot view and save the webpage source code. This feature is treated exactly as “Using onMouseOver to hide the Link”. Nonetheless, for this feature, we will search for event “event.button==2” in the webpage source code and check if the right click is disabled.\n",
    "\n",
    "If the response is empty or onmouseover is not found then, the value assigned to this feature is 1 (phishing) or else 0 (legitimate)."
   ]
  },
  {
   "cell_type": "code",
   "execution_count": 30,
   "id": "6812627f",
   "metadata": {},
   "outputs": [],
   "source": [
    "def checkRightClick(response):\n",
    "  if response == \"\":\n",
    "    return 1\n",
    "  else:\n",
    "    if re.findall(r\"event.button ?== ?2\", response.text):\n",
    "      return 0\n",
    "    else:\n",
    "      return 1"
   ]
  },
  {
   "cell_type": "markdown",
   "id": "220540ae",
   "metadata": {},
   "source": [
    "### 2.3.4. Website Forwarding:"
   ]
  },
  {
   "cell_type": "markdown",
   "id": "b4e31741",
   "metadata": {},
   "source": [
    "The fine line that distinguishes phishing websites from legitimate ones is how many times a website has been redirected. In our dataset, we find that legitimate websites have been redirected one time max. On the other hand, phishing websites containing this feature have been redirected at least 4 times."
   ]
  },
  {
   "cell_type": "code",
   "execution_count": 31,
   "id": "04f640dd",
   "metadata": {},
   "outputs": [],
   "source": [
    "def checkForwarding(response):\n",
    "  if response == \"\":\n",
    "    return 1\n",
    "  else:\n",
    "    if len(response.history) <= 2:\n",
    "      return 0\n",
    "    else:\n",
    "      return 1"
   ]
  },
  {
   "cell_type": "markdown",
   "id": "486d6dba",
   "metadata": {},
   "source": [
    "# 3. Extracting URL Features:"
   ]
  },
  {
   "cell_type": "markdown",
   "id": "67f9f9ed",
   "metadata": {},
   "source": [
    "We would create a list and a function that calls the above defined functions and stores all the features of the URL in the list. We will extract the features of each URL and append to this list accordingly."
   ]
  },
  {
   "cell_type": "code",
   "execution_count": 32,
   "id": "7fe67512",
   "metadata": {},
   "outputs": [],
   "source": [
    "def featureExtraction(url, label):\n",
    "#     print(url)\n",
    "    featuresList = []\n",
    " #  Address Bar based Features\n",
    "    featuresList.append(getDomain(url))\n",
    "    featuresList.append(checkIP(url))\n",
    "    featuresList.append(checkAtSymbol(url))\n",
    "    featuresList.append(lengthUrl(url))\n",
    "    featuresList.append(depthUrl(url))\n",
    "    featuresList.append(checkRedirUrl(url))\n",
    "    featuresList.append(checkHttpDomain(url))\n",
    "    featuresList.append(checkShortUrl(url))\n",
    "    featuresList.append(checkPrefSuff(url))\n",
    "    \n",
    " #  Domain based Features\n",
    "    dns = 0\n",
    "    domainName = \"\"\n",
    "    try:\n",
    "        domainName = whois.whois(urlparse(url).netloc)\n",
    " #         print(domainName)\n",
    "    except:\n",
    "        dns = 1\n",
    "    \n",
    "    featuresList.append(dns)\n",
    "    featuresList.append(checkWebTraffic(url))\n",
    "    featuresList.append(1 if dns == 1 else checkDomainAge(domainName))\n",
    "    featuresList.append(1 if dns == 1 else checkDomainEnd(domainName))\n",
    "  \n",
    " #   HTML and JavaScript based Features\n",
    "    try:\n",
    "        response = requests.get(url, timeout=5)\n",
    "    except:\n",
    "        response = \"\"\n",
    "        \n",
    "    featuresList.append(checkIframe(response))\n",
    "    featuresList.append(checkMouseOver(response))\n",
    "    featuresList.append(checkRightClick(response))\n",
    "    featuresList.append(checkForwarding(response))\n",
    "    featuresList.append(label)\n",
    "    \n",
    "    return featuresList"
   ]
  },
  {
   "cell_type": "markdown",
   "id": "5e28b937",
   "metadata": {},
   "source": [
    "# 4. Legitimate URLs:"
   ]
  },
  {
   "cell_type": "code",
   "execution_count": 33,
   "id": "9049d53c",
   "metadata": {},
   "outputs": [
    {
     "data": {
      "text/plain": [
       "(5000, 1)"
      ]
     },
     "execution_count": 33,
     "metadata": {},
     "output_type": "execute_result"
    }
   ],
   "source": [
    "df_legitimate_final.shape"
   ]
  },
  {
   "cell_type": "code",
   "execution_count": null,
   "id": "ef403e97",
   "metadata": {},
   "outputs": [],
   "source": [
    "legitimateFeatures = []\n",
    "label = 0\n",
    "\n",
    "for i in range(len(df_legitimate_final)):\n",
    "# for i in range(0, 5000):\n",
    "    url = df_legitimate_final['URLs'][i]\n",
    "    legitimateFeatures.append(featureExtraction(url, label))"
   ]
  },
  {
   "cell_type": "code",
   "execution_count": null,
   "id": "9e2383e0",
   "metadata": {},
   "outputs": [],
   "source": [
    "# feature_names = ['Domain', 'Have_IP', 'Have_At', 'URL_Length', 'URL_Depth','Redirection', \n",
    "#                       'https_Domain', 'TinyURL', 'Prefix/Suffix', 'DNS_Record', 'Web_Traffic', \n",
    "#                       'Domain_Age', 'Domain_End', 'iFrame', 'Mouse_Over','Right_Click', 'Web_Forwards', 'Label']\n",
    "\n",
    "# df_legitimate_final = pd.DataFrame(legitimateFeatures, columns= feature_names)\n",
    "# df_legitimate_final.head()"
   ]
  }
 ],
 "metadata": {
  "kernelspec": {
   "display_name": "Python 3",
   "language": "python",
   "name": "python3"
  },
  "language_info": {
   "codemirror_mode": {
    "name": "ipython",
    "version": 3
   },
   "file_extension": ".py",
   "mimetype": "text/x-python",
   "name": "python",
   "nbconvert_exporter": "python",
   "pygments_lexer": "ipython3",
   "version": "3.8.8"
  }
 },
 "nbformat": 4,
 "nbformat_minor": 5
}
